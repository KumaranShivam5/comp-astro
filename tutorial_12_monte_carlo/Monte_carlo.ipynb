{
  "nbformat": 4,
  "nbformat_minor": 0,
  "metadata": {
    "colab": {
      "name": "CA_lab_Monte_carlo.ipynb",
      "provenance": [],
      "collapsed_sections": []
    },
    "kernelspec": {
      "name": "python3",
      "display_name": "Python 3"
    }
  },
  "cells": [
    {
      "cell_type": "markdown",
      "metadata": {
        "id": "7Dye8ix0tZL0"
      },
      "source": [
        "# Monte Carlo integration\n",
        "Shivam Kumaran <br>\n",
        "SC17b122 <br>\n",
        "\n",
        "<a href = 'https://colab.research.google.com/drive/15e6uB278wofjsK39miemIHe-MVxzu3Vw?usp=sharing'> Open Code</a>\n"
      ]
    },
    {
      "cell_type": "code",
      "metadata": {
        "id": "EATuXpEes68i"
      },
      "source": [
        "import numpy as np\n",
        "from matplotlib import pyplot as plt\n",
        "import seaborn as sb\n",
        "import random as rnd \n",
        "rnd.seed(98953739273947483723)\n",
        "sb.set_style('darkgrid')"
      ],
      "execution_count": null,
      "outputs": []
    },
    {
      "cell_type": "markdown",
      "metadata": {
        "id": "d-9e2Q4qU87F"
      },
      "source": [
        "##  Function Definition"
      ]
    },
    {
      "cell_type": "code",
      "metadata": {
        "id": "mULYIe5StFmU"
      },
      "source": [
        "def f(x):\n",
        "    if(x!=0):\n",
        "        val = (x**3)/(np.exp(x)-1)\n",
        "    else:\n",
        "        val = 0\n",
        "    return val"
      ],
      "execution_count": null,
      "outputs": []
    },
    {
      "cell_type": "markdown",
      "metadata": {
        "id": "5hQD0ucPVANm"
      },
      "source": [
        "### quick look"
      ]
    },
    {
      "cell_type": "code",
      "metadata": {
        "id": "P9HywOqztZ9y",
        "outputId": "e871f0f0-0a95-4401-f0e5-07ecb30b57d2",
        "colab": {
          "base_uri": "https://localhost:8080/",
          "height": 268
        }
      },
      "source": [
        "x = np.linspace(0,1e2 , endpoint=False)\n",
        "y = [f(x) for x in x]\n",
        "plt.plot(x,y, '-')\n",
        "plt.show()"
      ],
      "execution_count": null,
      "outputs": [
        {
          "output_type": "display_data",
          "data": {
            "image/png": "[encoded data removed]",
            "text/plain": [
              "<Figure size 432x288 with 1 Axes>"
            ]
          },
          "metadata": {
            "tags": []
          }
        }
      ]
    },
    {
      "cell_type": "markdown",
      "metadata": {
        "id": "LxpOq_qCVMK6"
      },
      "source": [
        "## Integration Routine"
      ]
    },
    {
      "cell_type": "markdown",
      "metadata": {
        "id": "vfTpCDXgVOlF"
      },
      "source": [
        "### Generating random samples between given values"
      ]
    },
    {
      "cell_type": "code",
      "metadata": {
        "id": "aiNmCGmCwvDE"
      },
      "source": [
        "def gen_rand_n(x_min ,x_max , n):\n",
        "    x = []\n",
        "    n = int(n)\n",
        "    for i in range(n):\n",
        "        mu = rnd.uniform(0,1)\n",
        "        xi = x_min + mu*(x_max-x_min)\n",
        "        x.append(xi)\n",
        "    return x"
      ],
      "execution_count": null,
      "outputs": []
    },
    {
      "cell_type": "code",
      "metadata": {
        "id": "8klDXEnl48tN"
      },
      "source": [
        "# calculating the distribution of integration value\n",
        "# By taking N samples from set of x\n",
        "def calc_dist_f(x, N , x_min , x_max):\n",
        "    i = []\n",
        "    for j in range(500):\n",
        "        rnd.shuffle(x)\n",
        "        x_sample = rnd.sample(x , int(N))\n",
        "        i_n = (x_max-x_min)*sum([f(x) for x in x_sample])/N\n",
        "        i.append(i_n)\n",
        "    sigma = np.var(i)\n",
        "    mean = np.mean(i)\n",
        "    return (i , mean , sigma)"
      ],
      "execution_count": null,
      "outputs": []
    },
    {
      "cell_type": "code",
      "metadata": {
        "id": "IJKAIPhmZUre"
      },
      "source": [
        "x_min , x_max , n = 0 , 10 , 1e4 \n",
        "x = gen_rand_n(x_min , x_max , n)\n",
        "N1 , N2  = 100 , 500\n",
        "i_1 , integ_val_1 , var_1 = calc_dist_f(x , N1 , x_min , x_max)\n",
        "i_2 , integ_val_2 , var_2 = calc_dist_f(x , N2 , x_min , x_max)"
      ],
      "execution_count": null,
      "outputs": []
    },
    {
      "cell_type": "code",
      "metadata": {
        "id": "ntQs9uJ6KuxF",
        "outputId": "b2b4b96e-91d2-423d-fd9a-b993b8bdffae",
        "colab": {
          "base_uri": "https://localhost:8080/"
        }
      },
      "source": [
        "var_ratio = var_1/ var_2 \n",
        "N_ratio = N2/N1\n",
        "print('Ratio of variance:' , var_ratio)\n",
        "print('Ratio of N:' , N_ratio)\n",
        "#print(var_ratio , N_ratio)"
      ],
      "execution_count": null,
      "outputs": [
        {
          "output_type": "stream",
          "text": [
            "5.016913335522229 5.0\n"
          ],
          "name": "stdout"
        }
      ]
    },
    {
      "cell_type": "code",
      "metadata": {
        "id": "Oqd4aWB6MRUP"
      },
      "source": [
        "def histogram(x,bins):\n",
        "    if(type(bins)=='int'):\n",
        "        hist , bins = histogram_const_bin(x,bins)\n",
        "    else:\n",
        "        hist , bins = histogram_given_bin(x,bins)\n",
        "    return(hist, bins)\n",
        "\n",
        "def histogram_const_bin(x, bins):\n",
        "    x = np.asarray(x)\n",
        "    v_min = np.amin(x)\n",
        "    v_max = np.amax(x)\n",
        "    h = (v_max-v_min)/bins\n",
        "    #print(v_min , v_max)\n",
        "    hist = []\n",
        "    x_axis = []\n",
        "    for i in range(bins):\n",
        "        temp_min = v_min+i*h\n",
        "        temp_max = v_min+(i+1)*h\n",
        "        #print(temp_min, temp_max)\n",
        "        temp = [x_val for x_val in x if ((x_val>temp_min) and (x_val<=temp_max))] \n",
        "        #print(temp)\n",
        "        count = len(temp)\n",
        "        hist.append(count)\n",
        "        x_axis.append((temp_min+temp_max)/2)\n",
        "    return(hist , x_axis)\n",
        "\n",
        "def histogram_given_bin(x, bins):\n",
        "    x = np.asarray(x)\n",
        "    v_min = np.amin(x)\n",
        "    v_max = np.amax(x)\n",
        "    h = (v_max-v_min)/bins\n",
        "    #print(v_min , v_max)\n",
        "    hist = []\n",
        "    x_axis = []\n",
        "    for i in range(len(bins)):\n",
        "        temp = [x_val for x_val in x if ((x_val>bins[i]) and (x_val<=bins[i+1]))] \n",
        "        #print(temp)\n",
        "        count = len(temp)\n",
        "        hist.append(count)\n",
        "        #x_axis.append((temp_min+temp_max)/2)\n",
        "    return(hist, bins)\n"
      ],
      "execution_count": null,
      "outputs": []
    },
    {
      "cell_type": "code",
      "metadata": {
        "id": "hInLPtJ9lx0B"
      },
      "source": [
        ""
      ],
      "execution_count": null,
      "outputs": []
    },
    {
      "cell_type": "code",
      "metadata": {
        "id": "UZqr8ZoUmJJ2",
        "outputId": "67642dee-a06f-47b4-b58b-94d54af41f3d",
        "colab": {
          "base_uri": "https://localhost:8080/",
          "height": 318
        }
      },
      "source": [
        "print(len(i_1) , len(i_2))\n",
        "min_max = [np.amin(i_1) , np.amin(i_2) , np.amax(i_1) , np.amax(i_2)]\n",
        "bin_min , bin_max = np.amin(min_max) , np.amax(min_max)\n",
        "bins = np.linspace(bin_min, bin_max , 50)\n",
        "h_1 = histogram(i_1, bins)\n",
        "h_2 = histogram(i_2, bins)\n",
        "plt.step(h_1[1],h_1[0])\n",
        "plt.step(h_2[1],h_2[0])\n",
        "plt.ylabel('Counts')\n",
        "plt.xlabel('integration values')\n",
        "plt.legend(['N=100' , 'N = 500'])\n",
        "plt.title('My histogram routine plot')\n",
        "plt.show()"
      ],
      "execution_count": null,
      "outputs": [
        {
          "output_type": "stream",
          "text": [
            "500 500\n"
          ],
          "name": "stdout"
        },
        {
          "output_type": "display_data",
          "data": {
            "image/png": "[encoded data removed]",
            "text/plain": [
              "<Figure size 432x288 with 1 Axes>"
            ]
          },
          "metadata": {
            "tags": []
          }
        }
      ]
    },
    {
      "cell_type": "code",
      "metadata": {
        "id": "ZwAMVMBhh5MY",
        "outputId": "05d51d2b-05d3-4ea0-8e19-4cd6ead37ed5",
        "colab": {
          "base_uri": "https://localhost:8080/",
          "height": 398
        }
      },
      "source": [
        "sb.displot(data = [i_1 , i_2])\n",
        "plt.xlabel('integration values')\n",
        "plt.legend(['N=100' , 'N = 500'])\n",
        "plt.title('standard library Histogram')\n",
        "#plt.hist(i_2 , bins = 25)\n",
        "plt.show()"
      ],
      "execution_count": null,
      "outputs": [
        {
          "output_type": "display_data",
          "data": {
            "image/png": "[encoded data removed]",
            "text/plain": [
              "<Figure size 406.6x360 with 1 Axes>"
            ]
          },
          "metadata": {
            "tags": []
          }
        }
      ]
    },
    {
      "cell_type": "markdown",
      "metadata": {
        "id": "SE3xt7RuMICo"
      },
      "source": [
        "### Optimum $x_{max}$ \n"
      ]
    },
    {
      "cell_type": "code",
      "metadata": {
        "id": "nsYi1uJucs2M"
      },
      "source": [
        "def calc_optimal_x(x_min , x_max):\n",
        "    i = []\n",
        "    N = 100\n",
        "    for j in range(500):\n",
        "        x = gen_rand_n(x_min , x_max , 1e4)\n",
        "        x_sample = rnd.sample(x ,  N )\n",
        "        i_n = (x_max-x_min)*sum([f(x) for x in x_sample])/N\n",
        "        i.append(i_n)\n",
        "    sigma = np.var(i)\n",
        "    mean = np.mean(i)\n",
        "    return (i , mean , sigma)"
      ],
      "execution_count": null,
      "outputs": []
    },
    {
      "cell_type": "code",
      "metadata": {
        "id": "gATi8mUDdP3F"
      },
      "source": [
        "x_min = 0 \n",
        "n = 1e4 \n",
        "N1 = 100\n",
        "x_m = np.linspace(1 , 20 , 20)\n",
        "integ_values = []\n",
        "integ_distrib = []\n",
        "for x_max in x_m:\n",
        "    #x = gen_rand_n(x_min , x_max , n)\n",
        "    i , integ_val , var= calc_optimal_x(x_min , x_max)\n",
        "    integ_values.append(integ_val)\n",
        "    integ_distrib.append(i)\n",
        "    print(integ_val , var)"
      ],
      "execution_count": null,
      "outputs": []
    },
    {
      "cell_type": "code",
      "metadata": {
        "id": "-AYsRDyoeIns",
        "outputId": "6be7a8b5-1873-4370-fdfd-e1ab3ac500eb",
        "colab": {
          "base_uri": "https://localhost:8080/",
          "height": 301
        }
      },
      "source": [
        "plt.plot(x_m , integ_values )\n",
        "plt.title('Integration value vs X_max')\n",
        "plt.xlabel('X_max')\n",
        "plt.ylabel('Integration Values')\n",
        "plt.show()"
      ],
      "execution_count": null,
      "outputs": [
        {
          "output_type": "display_data",
          "data": {
            "image/png": "[encoded data removed]",
            "text/plain": [
              "<Figure size 432x288 with 1 Axes>"
            ]
          },
          "metadata": {
            "tags": []
          }
        }
      ]
    },
    {
      "cell_type": "markdown",
      "metadata": {
        "id": "kAI0i7MrsGal"
      },
      "source": [
        "### Inference\n",
        "We see that after about x_max = 10 , integration value keeps fluctuating.\n"
      ]
    },
    {
      "cell_type": "code",
      "metadata": {
        "id": "OOiA--tct5HC",
        "outputId": "3efc2347-e8cb-4691-883b-c1add6669d06",
        "colab": {
          "base_uri": "https://localhost:8080/"
        }
      },
      "source": [
        "x_min = 0 \n",
        "n = 1e4 \n",
        "N1 = 100\n",
        "x_max = 1\n",
        "delta_x = 1\n",
        "tol = 0.001\n",
        "_ , prev , _ = calc_optimal_x(x_min , 1)\n",
        "x_max+=1\n",
        "_ , next , _ = calc_optimal_x(x_min , x_max)\n",
        "err = abs(next-prev)\n",
        "while(err >= tol):\n",
        "    x_max = x_max + delta_x\n",
        "    prev   = next\n",
        "    _ , next , _ = calc_optimal_x(x_min , x_max)\n",
        "    err = abs(next-prev)\n",
        "    #print(err)\n",
        "    print('x_max: {} , Integ Value: {:.5f}'.format(x_max , next))\n",
        "#    print(x_max , next)"
      ],
      "execution_count": null,
      "outputs": [
        {
          "output_type": "stream",
          "text": [
            "x_max: 3 , Integ Value: 2.54907\n",
            "x_max: 4 , Integ Value: 3.88257\n",
            "x_max: 5 , Integ Value: 4.89839\n",
            "x_max: 6 , Integ Value: 5.59349\n",
            "x_max: 7 , Integ Value: 6.00188\n",
            "x_max: 8 , Integ Value: 6.24364\n",
            "x_max: 9 , Integ Value: 6.35254\n",
            "x_max: 10 , Integ Value: 6.45101\n",
            "x_max: 11 , Integ Value: 6.42733\n",
            "x_max: 12 , Integ Value: 6.45765\n",
            "x_max: 13 , Integ Value: 6.44730\n",
            "x_max: 14 , Integ Value: 6.53817\n",
            "x_max: 15 , Integ Value: 6.46736\n",
            "x_max: 16 , Integ Value: 6.46659\n"
          ],
          "name": "stdout"
        }
      ]
    },
    {
      "cell_type": "code",
      "metadata": {
        "id": "KwlxlyC2sj2V",
        "outputId": "130cc07d-cfbd-45bd-90bd-92d3fd4e5940",
        "colab": {
          "base_uri": "https://localhost:8080/"
        }
      },
      "source": [
        "print(x_max)\n",
        "n =  1e4 \n",
        "x = gen_rand_n(x_min , x_max , n)\n",
        "N1  = 500 \n",
        "i , integ_val , var = calc_dist_f(x , N1 , x_min , x_max)"
      ],
      "execution_count": null,
      "outputs": [
        {
          "output_type": "stream",
          "text": [
            "16\n"
          ],
          "name": "stdout"
        }
      ]
    },
    {
      "cell_type": "code",
      "metadata": {
        "id": "-RUJ_xNTzCCN",
        "outputId": "aed6d84f-9637-42f7-bba1-98b9a5626785",
        "colab": {
          "base_uri": "https://localhost:8080/",
          "height": 285
        }
      },
      "source": [
        "bin_min , bin_max = np.amin(i) , np.amax(i)\n",
        "bins = np.linspace(bin_min, bin_max , 25)\n",
        "h_1 = histogram(i, bins)\n",
        "plt.step(h_1[1],h_1[0])\n",
        "plt.ylabel('Counts')\n",
        "plt.xlabel('integration values')\n",
        "plt.show()"
      ],
      "execution_count": null,
      "outputs": [
        {
          "output_type": "display_data",
          "data": {
            "image/png": "[encoded data removed]",
            "text/plain": [
              "<Figure size 432x288 with 1 Axes>"
            ]
          },
          "metadata": {
            "tags": []
          }
        }
      ]
    }
  ]
}