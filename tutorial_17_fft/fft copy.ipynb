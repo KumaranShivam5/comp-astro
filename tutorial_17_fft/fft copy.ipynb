{
 "metadata": {
  "language_info": {
   "codemirror_mode": {
    "name": "ipython",
    "version": 3
   },
   "file_extension": ".py",
   "mimetype": "text/x-python",
   "name": "python",
   "nbconvert_exporter": "python",
   "pygments_lexer": "ipython3",
   "version": "3.7.3-final"
  },
  "orig_nbformat": 2,
  "kernelspec": {
   "name": "python_defaultSpec_1606934480941",
   "display_name": "Python 3.7.3 64-bit"
  }
 },
 "nbformat": 4,
 "nbformat_minor": 2,
 "cells": [
  {
   "cell_type": "code",
   "execution_count": 1,
   "metadata": {},
   "outputs": [],
   "source": [
    "import numpy as np\n",
    "from ordering import order_bit_rev , dec_to_bin"
   ]
  },
  {
   "cell_type": "code",
   "execution_count": 2,
   "metadata": {},
   "outputs": [],
   "source": [
    "def butter_stg(x , stg):\n",
    "    n = len(x)\n",
    "    n_itr = int(len(x)/2)\n",
    "    f = np.zeros(len(x))\n",
    "    del_index = int(2**stg)\n",
    "    for i in range(n_itr):\n",
    "        #print(':', i , 2**(stg+1))\n",
    "        w = calc_w(i , 2**(stg+1))\n",
    "        #print('to bfly:', i , del_index)\n",
    "        x_temp = [x[i] , x[i+del_index]]\n",
    "        f[i] , f[i+del_index] = butter(x_temp , w)\n",
    "    return f"
   ]
  },
  {
   "cell_type": "code",
   "execution_count": 8,
   "metadata": {
    "tags": []
   },
   "outputs": [
    {
     "output_type": "stream",
     "name": "stdout",
     "text": "[(2+0j), (-0.707106781186548-0.292893218813452j), (-1-1j), (0.707106781186548+1.707106781186548j), 0j, (0.707106781186548-1.707106781186548j), (-1+1j), (-0.707106781186548+0.292893218813452j)]\n"
    },
    {
     "output_type": "execute_result",
     "data": {
      "text/plain": "array([ 2.        +0.j        , -0.70710678-0.29289322j,\n       -1.        -1.j        ,  0.70710678+1.70710678j,\n        0.        +0.j        ,  0.70710678-1.70710678j,\n       -1.        +1.j        , -0.70710678+0.29289322j])"
     },
     "metadata": {},
     "execution_count": 8
    }
   ],
   "source": [
    "def compute_fft(x):\n",
    "    #____________________________________________________________\n",
    "    def get_index_pair(n,stg):\n",
    "        flag = 1\n",
    "        x = np.arange(n)\n",
    "        delta_stp = 2**(stg)\n",
    "        grp_1 , grp_2 = [] , []\n",
    "        for i in range(0,len(x),delta_stp):\n",
    "            for k in range(i,i+delta_stp):\n",
    "                #print(k , flag)\n",
    "                if(flag==1):\n",
    "                    grp_1.append(x[k])\n",
    "                else: grp_2.append(x[k])\n",
    "                #print(flag)\n",
    "            flag*=-1\n",
    "        index_pair = [[i1,i2] for i1,i2 in zip(grp_1, grp_2)]\n",
    "        return index_pair\n",
    "    def stage_op(x,stg):\n",
    "        ind = get_index_pair(len(x),stg)\n",
    "        f = [1]*len(x)\n",
    "        i = 0\n",
    "        N = 2**(stg+1)\n",
    "        for pair in ind:\n",
    "            w = calc_w(i,N)\n",
    "            inp_pair = [x[pair[0]] , x[pair[1]]]\n",
    "            f[pair[0]],f[pair[1]] = butter(inp_pair , w) \n",
    "            i+=1\n",
    "        return f\n",
    "    def butter(x , w):\n",
    "        f0 = x[0] + w*x[1]\n",
    "        f1 = x[0] - w*x[1]\n",
    "        return ([f0,f1])\n",
    "    def calc_w(n , N):\n",
    "        #print('n,N :' , n,N)\n",
    "        val = np.exp(-(2j*np.pi*n)/(N)).round(15)\n",
    "        #print('W:' , val)\n",
    "        return val\n",
    "    #_______________________________________________\n",
    "    x = order_bit_rev(x)\n",
    "    stages = int(np.log2(len(x)))\n",
    "    for i in range(stages):\n",
    "        x = stage_op(x , i)\n",
    "    return x\n",
    "x = [0, 0, 1 ,0 , 0 , 1 ,0 ,0]\n",
    "print(compute_fft(x))\n",
    "np.fft.fft(x)"
   ]
  }
 ]
}