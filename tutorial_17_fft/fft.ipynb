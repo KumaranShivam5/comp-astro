{
 "metadata": {
  "language_info": {
   "codemirror_mode": {
    "name": "ipython",
    "version": 3
   },
   "file_extension": ".py",
   "mimetype": "text/x-python",
   "name": "python",
   "nbconvert_exporter": "python",
   "pygments_lexer": "ipython3",
   "version": "3.7.3-final"
  },
  "orig_nbformat": 2,
  "kernelspec": {
   "name": "python_defaultSpec_1609097266450",
   "display_name": "Python 3.7.3 64-bit"
  }
 },
 "nbformat": 4,
 "nbformat_minor": 2,
 "cells": [
  {
   "cell_type": "code",
   "execution_count": 1,
   "metadata": {},
   "outputs": [],
   "source": [
    "import numpy as np\n",
    "from ordering import order_bit_rev , dec_to_bin\n",
    "from scipy.fft import fft"
   ]
  },
  {
   "cell_type": "code",
   "execution_count": 2,
   "metadata": {
    "tags": []
   },
   "outputs": [
    {
     "output_type": "stream",
     "name": "stdout",
     "text": "[(2+0j), 0j, (-2+0j), 0j, (2+0j), 0j, (-2+0j), 0j]\n[ 2.+0.j  0.+0.j -2.+0.j  0.+0.j  2.+0.j  0.+0.j -2.+0.j  0.+0.j]\n[ 2.-0.j  0.+0.j -2.-0.j  0.+0.j  2.-0.j  0.-0.j -2.+0.j  0.-0.j]\n"
    }
   ],
   "source": [
    "def compute_fft(x):\n",
    "    def get_index_pair(n,stg):\n",
    "        flag = 1\n",
    "        x = np.arange(n)\n",
    "        delta_stp = 2**(stg)\n",
    "        grp_1 , grp_2 = [] , []\n",
    "        for i in range(0,len(x),delta_stp):\n",
    "            for k in range(i,i+delta_stp):\n",
    "                #print(k , flag)\n",
    "                if(flag==1):\n",
    "                    grp_1.append(x[k])\n",
    "                else: grp_2.append(x[k])\n",
    "                #print(flag)\n",
    "            flag*=-1\n",
    "        index_pair = [[i1,i2] for i1,i2 in zip(grp_1, grp_2)]\n",
    "        return index_pair\n",
    "\n",
    "    def butterfly(x , w):\n",
    "        f0 = x[0] + w*x[1]\n",
    "        f1 = x[0] - w*x[1]\n",
    "        return ([f0,f1])\n",
    "\n",
    "    x = order_bit_rev(x)\n",
    "    stages = int(np.log2(len(x)))\n",
    "    for stg in range(stages):\n",
    "        #x = stage_op(x , i)\n",
    "        ind = get_index_pair(len(x),stg)\n",
    "        #f = [1]*len(x)\n",
    "        i = 0\n",
    "        N = 2**(stg+1)\n",
    "        for pair in ind:\n",
    "            k = i%(2**(stg))\n",
    "            w = np.exp(-(2j*np.pi*k)/(N)).round(15)\n",
    "            inp_pair = [x[pair[0]] , x[pair[1]]]\n",
    "            x[pair[0]],x[pair[1]] = butterfly(inp_pair , w) \n",
    "            i+=1\n",
    "    return x\n",
    "x = [0,0,1,0,0,0,1,0]\n",
    "print(compute_fft(x))\n",
    "print(np.fft.fft(x))\n",
    "print(fft(x))"
   ]
  },
  {
   "cell_type": "code",
   "execution_count": 3,
   "metadata": {
    "tags": []
   },
   "outputs": [
    {
     "output_type": "stream",
     "name": "stdout",
     "text": "[2, 4, 6, 8]\n"
    }
   ],
   "source": [
    "p = [1,2,3,4,5,6,7,8,9]\n",
    "print(p[1::2])"
   ]
  },
  {
   "cell_type": "code",
   "execution_count": 4,
   "metadata": {
    "tags": []
   },
   "outputs": [
    {
     "output_type": "stream",
     "name": "stdout",
     "text": "[(0.216862867371891+0j), (0.198896285329633+0j), (-0.216862867371891+0j), (-0.198896285329633+0j), (0.216862867371891+0j), (0.198896285329633+0j), (-0.216862867371891+0j), (-0.198896285329633+0j)]\n"
    }
   ],
   "source": []
  },
  {
   "cell_type": "code",
   "execution_count": null,
   "metadata": {},
   "outputs": [],
   "source": []
  }
 ]
}