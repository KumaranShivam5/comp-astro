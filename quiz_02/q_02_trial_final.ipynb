{
 "metadata": {
  "language_info": {
   "codemirror_mode": {
    "name": "ipython",
    "version": 3
   },
   "file_extension": ".py",
   "mimetype": "text/x-python",
   "name": "python",
   "nbconvert_exporter": "python",
   "pygments_lexer": "ipython3",
   "version": "3.7.3-final"
  },
  "orig_nbformat": 2,
  "kernelspec": {
   "name": "python_defaultSpec_1606201565255",
   "display_name": "Python 3.7.3 64-bit"
  }
 },
 "nbformat": 4,
 "nbformat_minor": 2,
 "cells": [
  {
   "cell_type": "code",
   "execution_count": 1,
   "metadata": {},
   "outputs": [],
   "source": [
    "import numpy as np \n",
    "from matplotlib import pyplot as plt "
   ]
  },
  {
   "cell_type": "code",
   "execution_count": 2,
   "metadata": {},
   "outputs": [],
   "source": [
    "kb = 1.38064852e-23"
   ]
  },
  {
   "cell_type": "code",
   "execution_count": 3,
   "metadata": {},
   "outputs": [],
   "source": [
    "def poly(x,a):\n",
    "    val = sum([a[j]*(x**(j)) for j in range(1,len(a))])\n",
    "    return val"
   ]
  },
  {
   "cell_type": "markdown",
   "metadata": {},
   "source": [
    "### Routine for calculation of integral of a function"
   ]
  },
  {
   "cell_type": "code",
   "execution_count": 4,
   "metadata": {},
   "outputs": [],
   "source": [
    "def integral(f,a_0,b_0,n,kind='simp'):\n",
    "    h = (b_0-a_0)/n\n",
    "    t0 = f(a_0)+f(b_0)\n",
    "\n",
    "    if (kind=='simp'):\n",
    "        t1 = sum([f(a_0+h*(2*k-1)) for k in range(1,int(n/2)+1)])\n",
    "        t3 = sum([f(a_0+h*(2*k)) for k in range(1,int(n/2))])\n",
    "        val = (h/3)*(t0+4*t1+2*t3)\n",
    "    if(kind=='tpz'):\n",
    "        t1 = sum([f(a_0+k*h) for k in range(1,n)])\n",
    "        val = (h/2)*(t0+2*t1)\n",
    "    return(val)"
   ]
  },
  {
   "cell_type": "markdown",
   "metadata": {},
   "source": [
    "## Linear regression routine"
   ]
  },
  {
   "cell_type": "code",
   "execution_count": 5,
   "metadata": {},
   "outputs": [],
   "source": [
    "def linear_regression(x,y,sigma):\n",
    "    '''\n",
    "    Fits data(x , y) for the linear function - \n",
    "    y = a1 + a2*x\n",
    "\n",
    "    Use error propogation for calculation of \n",
    "    error in a1 and a1, using given error sigma\n",
    "\n",
    "    returns a1,a1, error(a1) , error(a1)\n",
    "    '''\n",
    "    s = sum([1/(sig**2) for sig in sigma])\n",
    "    sum_x = sum([(xi/(sigma_i**2)) for xi , sigma_i in zip(x,sigma)])\n",
    "    sum_y = sum([(xi/(sigma_i**2)) for xi , sigma_i in zip(y,sigma)])\n",
    "    sum_x_sq = sum([(xi**2/(sigma_i**2)) for xi , sigma_i in zip(x,sigma)])\n",
    "    sum_x_y = sum([(xi*yi/(sigma_i**2)) for xi ,yi, sigma_i in zip(x,y,sigma)])\n",
    "\n",
    "    # Parameters Calculation\n",
    "    denom = s*sum_x_sq - (sum_x**2)\n",
    "    a1 = (sum_y*sum_x_sq - sum_x*sum_x_y)/denom\n",
    "    a2 = ( s*sum_x_y - sum_x*sum_y ) /denom\n",
    "\n",
    "    # Error Calculation\n",
    "    sigma_a1_sq = sum([(((sum_x_sq-x_i*sum_x))**2)/(sigma_i**2) for x_i,sigma_i in zip(x,sigma)])/(denom**2)\n",
    "    sigma_a2_sq = sum([((s*x_i-sum_x)**2)/(sigma_i**2) for x_i , sigma_i in zip(x,sigma)])/(denom**2)\n",
    "\n",
    "    err_a1 = sigma_a1_sq**0.5\n",
    "    err_a2 = sigma_a2_sq**0.5\n",
    "\n",
    "\n",
    "    return (a1,a2 , err_a1 , err_a2)\n"
   ]
  },
  {
   "cell_type": "markdown",
   "metadata": {},
   "source": [
    "## Loading data \n",
    "energy is converted into J"
   ]
  },
  {
   "cell_type": "code",
   "execution_count": 6,
   "metadata": {
    "tags": []
   },
   "outputs": [],
   "source": [
    "data = np.loadtxt('QIIdata')\n",
    "data_col = np.transpose(data)\n",
    "\n",
    "#print(data.shape)\n",
    "en_kev = data[:,0]\n",
    "en = np.asarray([e*1.60218e-16 for e in en_kev])\n",
    "fm = data[:,1]\n",
    "del_fm = data[:,2]\n",
    "ft = data[:,3]\n",
    "del_ft = data[:,4]"
   ]
  },
  {
   "cell_type": "markdown",
   "metadata": {},
   "source": [
    "## Part (I) Part(II)\n",
    "taking log on both sides and linear fitting"
   ]
  },
  {
   "cell_type": "code",
   "execution_count": 7,
   "metadata": {
    "tags": []
   },
   "outputs": [],
   "source": [
    "log_fm = np.log(fm)\n",
    "d_log_fm = np.asarray([(del_f/f) for del_f , f in zip(del_fm, fm)])"
   ]
  },
  {
   "cell_type": "code",
   "execution_count": 8,
   "metadata": {
    "tags": []
   },
   "outputs": [
    {
     "output_type": "stream",
     "name": "stdout",
     "text": "-4870625982560964.0 21382929316637.44\n"
    }
   ],
   "source": [
    "_ , a1 , _ , err_a1 = (linear_regression(en , log_fm , d_log_fm))\n",
    "print(a1 , err_a1)"
   ]
  },
  {
   "cell_type": "code",
   "execution_count": 9,
   "metadata": {
    "tags": []
   },
   "outputs": [
    {
     "output_type": "stream",
     "name": "stdout",
     "text": "11942818631310.047 164482758744.3392\n"
    }
   ],
   "source": [
    "y_ft = [(1/np.log(f))**2  for f in ft]\n",
    "d_y_ft = [(-2*df)/(f*((np.log(f))**3)) for df , f in zip(del_ft , ft)]\n",
    "_ , a2 ,  _ , err_a2 = (linear_regression(en , y_ft , d_y_ft))\n",
    "print(a2 , err_a2)"
   ]
  },
  {
   "cell_type": "code",
   "execution_count": 10,
   "metadata": {
    "tags": []
   },
   "outputs": [
    {
     "output_type": "stream",
     "name": "stdout",
     "text": "Temp estimated: 1.487e+07 K\nerror in temp estimated: 6.529e+04 K\n"
    }
   ],
   "source": [
    "T = (-1/(a1*kb))\n",
    "err_T = (1/(kb*a1**2))*err_a1\n",
    "print('Temp estimated: {:.3e} K'.format(T))\n",
    "print('error in temp estimated: {:.3e} K'.format(err_T))"
   ]
  },
  {
   "cell_type": "code",
   "execution_count": 11,
   "metadata": {
    "tags": []
   },
   "outputs": [
    {
     "output_type": "stream",
     "name": "stdout",
     "text": "b estimated: 2.894e-07 K\nerror in b estimated: -1.993e-09 K\n"
    }
   ],
   "source": [
    "b = a2**(-0.5)\n",
    "err_b = (-0.5)*(a2**(-(3/2)))*err_a2\n",
    "print('b estimated: {:.3e} K'.format(b))\n",
    "print('error in b estimated: {:.3e} K'.format(err_b))"
   ]
  },
  {
   "cell_type": "markdown",
   "metadata": {},
   "source": [
    "## Part (III)"
   ]
  },
  {
   "cell_type": "code",
   "execution_count": 12,
   "metadata": {},
   "outputs": [
    {
     "output_type": "display_data",
     "data": {
      "text/plain": "<Figure size 432x288 with 1 Axes>",
      "image/svg+xml": "<?xml version=\"1.0\" encoding=\"utf-8\" standalone=\"no\"?>\n<!DOCTYPE svg PUBLIC \"-//W3C//DTD SVG 1.1//EN\"\n  \"http://www.w3.org/Graphics/SVG/1.1/DTD/svg11.dtd\">\n<!-- Created with matplotlib (https://matplotlib.org/) -->\n<svg height=\"277.314375pt\" version=\"1.1\" viewBox=\"0 0 394.160937 277.314375\" width=\"394.160937pt\" xmlns=\"http://www.w3.org/2000/svg\" xmlns:xlink=\"http://www.w3.org/1999/xlink\">\n <metadata>\n  <rdf:RDF xmlns:cc=\"http://creativecommons.org/ns#\" xmlns:dc=\"http://purl.org/dc/elements/1.1/\" xmlns:rdf=\"http://www.w3.org/1999/02/22-rdf-syntax-ns#\">\n   <cc:Work>\n    <dc:type rdf:resource=\"http://purl.org/dc/dcmitype/StillImage\"/>\n    <dc:date>2020-11-24T12:36:33.903223</dc:date>\n    <dc:format>image/svg+xml</dc:format>\n    <dc:creator>\n     <cc:Agent>\n      <dc:title>Matplotlib v3.3.1, https://matplotlib.org/</dc:title>\n     </cc:Agent>\n    </dc:creator>\n   </cc:Work>\n  </rdf:RDF>\n </metadata>\n <defs>\n  <style type=\"text/css\">*{stroke-linecap:butt;stroke-linejoin:round;}</style>\n </defs>\n <g id=\"figure_1\">\n  <g id=\"patch_1\">\n   <path d=\"M 0 277.314375 \nL 394.160937 277.314375 \nL 394.160937 0 \nL 0 0 \nz\n\" style=\"fill:none;\"/>\n  </g>\n  <g id=\"axes_1\">\n   <g id=\"patch_2\">\n    <path d=\"M 52.160938 239.758125 \nL 386.960938 239.758125 \nL 386.960938 22.318125 \nL 52.160938 22.318125 \nz\n\" style=\"fill:#ffffff;\"/>\n   </g>\n   <g id=\"matplotlib.axis_1\">\n    <g id=\"xtick_1\">\n     <g id=\"line2d_1\">\n      <defs>\n       <path d=\"M 0 0 \nL 0 3.5 \n\" id=\"m0ebdee61a2\" style=\"stroke:#000000;stroke-width:0.8;\"/>\n      </defs>\n      <g>\n       <use style=\"stroke:#000000;stroke-width:0.8;\" x=\"67.918857\" xlink:href=\"#m0ebdee61a2\" y=\"239.758125\"/>\n      </g>\n     </g>\n     <g id=\"text_1\">\n      <!-- 0.50 -->\n      <g transform=\"translate(56.786045 254.356562)scale(0.1 -0.1)\">\n       <defs>\n        <path d=\"M 31.78125 66.40625 \nQ 24.171875 66.40625 20.328125 58.90625 \nQ 16.5 51.421875 16.5 36.375 \nQ 16.5 21.390625 20.328125 13.890625 \nQ 24.171875 6.390625 31.78125 6.390625 \nQ 39.453125 6.390625 43.28125 13.890625 \nQ 47.125 21.390625 47.125 36.375 \nQ 47.125 51.421875 43.28125 58.90625 \nQ 39.453125 66.40625 31.78125 66.40625 \nz\nM 31.78125 74.21875 \nQ 44.046875 74.21875 50.515625 64.515625 \nQ 56.984375 54.828125 56.984375 36.375 \nQ 56.984375 17.96875 50.515625 8.265625 \nQ 44.046875 -1.421875 31.78125 -1.421875 \nQ 19.53125 -1.421875 13.0625 8.265625 \nQ 6.59375 17.96875 6.59375 36.375 \nQ 6.59375 54.828125 13.0625 64.515625 \nQ 19.53125 74.21875 31.78125 74.21875 \nz\n\" id=\"DejaVuSans-48\"/>\n        <path d=\"M 10.6875 12.40625 \nL 21 12.40625 \nL 21 0 \nL 10.6875 0 \nz\n\" id=\"DejaVuSans-46\"/>\n        <path d=\"M 10.796875 72.90625 \nL 49.515625 72.90625 \nL 49.515625 64.59375 \nL 19.828125 64.59375 \nL 19.828125 46.734375 \nQ 21.96875 47.46875 24.109375 47.828125 \nQ 26.265625 48.1875 28.421875 48.1875 \nQ 40.625 48.1875 47.75 41.5 \nQ 54.890625 34.8125 54.890625 23.390625 \nQ 54.890625 11.625 47.5625 5.09375 \nQ 40.234375 -1.421875 26.90625 -1.421875 \nQ 22.3125 -1.421875 17.546875 -0.640625 \nQ 12.796875 0.140625 7.71875 1.703125 \nL 7.71875 11.625 \nQ 12.109375 9.234375 16.796875 8.0625 \nQ 21.484375 6.890625 26.703125 6.890625 \nQ 35.15625 6.890625 40.078125 11.328125 \nQ 45.015625 15.765625 45.015625 23.390625 \nQ 45.015625 31 40.078125 35.4375 \nQ 35.15625 39.890625 26.703125 39.890625 \nQ 22.75 39.890625 18.8125 39.015625 \nQ 14.890625 38.140625 10.796875 36.28125 \nz\n\" id=\"DejaVuSans-53\"/>\n       </defs>\n       <use xlink:href=\"#DejaVuSans-48\"/>\n       <use x=\"63.623047\" xlink:href=\"#DejaVuSans-46\"/>\n       <use x=\"95.410156\" xlink:href=\"#DejaVuSans-53\"/>\n       <use x=\"159.033203\" xlink:href=\"#DejaVuSans-48\"/>\n      </g>\n     </g>\n    </g>\n    <g id=\"xtick_2\">\n     <g id=\"line2d_2\">\n      <g>\n       <use style=\"stroke:#000000;stroke-width:0.8;\" x=\"108.510404\" xlink:href=\"#m0ebdee61a2\" y=\"239.758125\"/>\n      </g>\n     </g>\n     <g id=\"text_2\">\n      <!-- 0.75 -->\n      <g transform=\"translate(97.377592 254.356562)scale(0.1 -0.1)\">\n       <defs>\n        <path d=\"M 8.203125 72.90625 \nL 55.078125 72.90625 \nL 55.078125 68.703125 \nL 28.609375 0 \nL 18.3125 0 \nL 43.21875 64.59375 \nL 8.203125 64.59375 \nz\n\" id=\"DejaVuSans-55\"/>\n       </defs>\n       <use xlink:href=\"#DejaVuSans-48\"/>\n       <use x=\"63.623047\" xlink:href=\"#DejaVuSans-46\"/>\n       <use x=\"95.410156\" xlink:href=\"#DejaVuSans-55\"/>\n       <use x=\"159.033203\" xlink:href=\"#DejaVuSans-53\"/>\n      </g>\n     </g>\n    </g>\n    <g id=\"xtick_3\">\n     <g id=\"line2d_3\">\n      <g>\n       <use style=\"stroke:#000000;stroke-width:0.8;\" x=\"149.101951\" xlink:href=\"#m0ebdee61a2\" y=\"239.758125\"/>\n      </g>\n     </g>\n     <g id=\"text_3\">\n      <!-- 1.00 -->\n      <g transform=\"translate(137.969139 254.356562)scale(0.1 -0.1)\">\n       <defs>\n        <path d=\"M 12.40625 8.296875 \nL 28.515625 8.296875 \nL 28.515625 63.921875 \nL 10.984375 60.40625 \nL 10.984375 69.390625 \nL 28.421875 72.90625 \nL 38.28125 72.90625 \nL 38.28125 8.296875 \nL 54.390625 8.296875 \nL 54.390625 0 \nL 12.40625 0 \nz\n\" id=\"DejaVuSans-49\"/>\n       </defs>\n       <use xlink:href=\"#DejaVuSans-49\"/>\n       <use x=\"63.623047\" xlink:href=\"#DejaVuSans-46\"/>\n       <use x=\"95.410156\" xlink:href=\"#DejaVuSans-48\"/>\n       <use x=\"159.033203\" xlink:href=\"#DejaVuSans-48\"/>\n      </g>\n     </g>\n    </g>\n    <g id=\"xtick_4\">\n     <g id=\"line2d_4\">\n      <g>\n       <use style=\"stroke:#000000;stroke-width:0.8;\" x=\"189.693498\" xlink:href=\"#m0ebdee61a2\" y=\"239.758125\"/>\n      </g>\n     </g>\n     <g id=\"text_4\">\n      <!-- 1.25 -->\n      <g transform=\"translate(178.560686 254.356562)scale(0.1 -0.1)\">\n       <defs>\n        <path d=\"M 19.1875 8.296875 \nL 53.609375 8.296875 \nL 53.609375 0 \nL 7.328125 0 \nL 7.328125 8.296875 \nQ 12.9375 14.109375 22.625 23.890625 \nQ 32.328125 33.6875 34.8125 36.53125 \nQ 39.546875 41.84375 41.421875 45.53125 \nQ 43.3125 49.21875 43.3125 52.78125 \nQ 43.3125 58.59375 39.234375 62.25 \nQ 35.15625 65.921875 28.609375 65.921875 \nQ 23.96875 65.921875 18.8125 64.3125 \nQ 13.671875 62.703125 7.8125 59.421875 \nL 7.8125 69.390625 \nQ 13.765625 71.78125 18.9375 73 \nQ 24.125 74.21875 28.421875 74.21875 \nQ 39.75 74.21875 46.484375 68.546875 \nQ 53.21875 62.890625 53.21875 53.421875 \nQ 53.21875 48.921875 51.53125 44.890625 \nQ 49.859375 40.875 45.40625 35.40625 \nQ 44.1875 33.984375 37.640625 27.21875 \nQ 31.109375 20.453125 19.1875 8.296875 \nz\n\" id=\"DejaVuSans-50\"/>\n       </defs>\n       <use xlink:href=\"#DejaVuSans-49\"/>\n       <use x=\"63.623047\" xlink:href=\"#DejaVuSans-46\"/>\n       <use x=\"95.410156\" xlink:href=\"#DejaVuSans-50\"/>\n       <use x=\"159.033203\" xlink:href=\"#DejaVuSans-53\"/>\n      </g>\n     </g>\n    </g>\n    <g id=\"xtick_5\">\n     <g id=\"line2d_5\">\n      <g>\n       <use style=\"stroke:#000000;stroke-width:0.8;\" x=\"230.285046\" xlink:href=\"#m0ebdee61a2\" y=\"239.758125\"/>\n      </g>\n     </g>\n     <g id=\"text_5\">\n      <!-- 1.50 -->\n      <g transform=\"translate(219.152233 254.356562)scale(0.1 -0.1)\">\n       <use xlink:href=\"#DejaVuSans-49\"/>\n       <use x=\"63.623047\" xlink:href=\"#DejaVuSans-46\"/>\n       <use x=\"95.410156\" xlink:href=\"#DejaVuSans-53\"/>\n       <use x=\"159.033203\" xlink:href=\"#DejaVuSans-48\"/>\n      </g>\n     </g>\n    </g>\n    <g id=\"xtick_6\">\n     <g id=\"line2d_6\">\n      <g>\n       <use style=\"stroke:#000000;stroke-width:0.8;\" x=\"270.876593\" xlink:href=\"#m0ebdee61a2\" y=\"239.758125\"/>\n      </g>\n     </g>\n     <g id=\"text_6\">\n      <!-- 1.75 -->\n      <g transform=\"translate(259.74378 254.356562)scale(0.1 -0.1)\">\n       <use xlink:href=\"#DejaVuSans-49\"/>\n       <use x=\"63.623047\" xlink:href=\"#DejaVuSans-46\"/>\n       <use x=\"95.410156\" xlink:href=\"#DejaVuSans-55\"/>\n       <use x=\"159.033203\" xlink:href=\"#DejaVuSans-53\"/>\n      </g>\n     </g>\n    </g>\n    <g id=\"xtick_7\">\n     <g id=\"line2d_7\">\n      <g>\n       <use style=\"stroke:#000000;stroke-width:0.8;\" x=\"311.46814\" xlink:href=\"#m0ebdee61a2\" y=\"239.758125\"/>\n      </g>\n     </g>\n     <g id=\"text_7\">\n      <!-- 2.00 -->\n      <g transform=\"translate(300.335327 254.356562)scale(0.1 -0.1)\">\n       <use xlink:href=\"#DejaVuSans-50\"/>\n       <use x=\"63.623047\" xlink:href=\"#DejaVuSans-46\"/>\n       <use x=\"95.410156\" xlink:href=\"#DejaVuSans-48\"/>\n       <use x=\"159.033203\" xlink:href=\"#DejaVuSans-48\"/>\n      </g>\n     </g>\n    </g>\n    <g id=\"xtick_8\">\n     <g id=\"line2d_8\">\n      <g>\n       <use style=\"stroke:#000000;stroke-width:0.8;\" x=\"352.059687\" xlink:href=\"#m0ebdee61a2\" y=\"239.758125\"/>\n      </g>\n     </g>\n     <g id=\"text_8\">\n      <!-- 2.25 -->\n      <g transform=\"translate(340.926875 254.356562)scale(0.1 -0.1)\">\n       <use xlink:href=\"#DejaVuSans-50\"/>\n       <use x=\"63.623047\" xlink:href=\"#DejaVuSans-46\"/>\n       <use x=\"95.410156\" xlink:href=\"#DejaVuSans-50\"/>\n       <use x=\"159.033203\" xlink:href=\"#DejaVuSans-53\"/>\n      </g>\n     </g>\n    </g>\n    <g id=\"text_9\">\n     <!-- energy (J) -->\n     <g transform=\"translate(195.171875 268.034687)scale(0.1 -0.1)\">\n      <defs>\n       <path d=\"M 56.203125 29.59375 \nL 56.203125 25.203125 \nL 14.890625 25.203125 \nQ 15.484375 15.921875 20.484375 11.0625 \nQ 25.484375 6.203125 34.421875 6.203125 \nQ 39.59375 6.203125 44.453125 7.46875 \nQ 49.3125 8.734375 54.109375 11.28125 \nL 54.109375 2.78125 \nQ 49.265625 0.734375 44.1875 -0.34375 \nQ 39.109375 -1.421875 33.890625 -1.421875 \nQ 20.796875 -1.421875 13.15625 6.1875 \nQ 5.515625 13.8125 5.515625 26.8125 \nQ 5.515625 40.234375 12.765625 48.109375 \nQ 20.015625 56 32.328125 56 \nQ 43.359375 56 49.78125 48.890625 \nQ 56.203125 41.796875 56.203125 29.59375 \nz\nM 47.21875 32.234375 \nQ 47.125 39.59375 43.09375 43.984375 \nQ 39.0625 48.390625 32.421875 48.390625 \nQ 24.90625 48.390625 20.390625 44.140625 \nQ 15.875 39.890625 15.1875 32.171875 \nz\n\" id=\"DejaVuSans-101\"/>\n       <path d=\"M 54.890625 33.015625 \nL 54.890625 0 \nL 45.90625 0 \nL 45.90625 32.71875 \nQ 45.90625 40.484375 42.875 44.328125 \nQ 39.84375 48.1875 33.796875 48.1875 \nQ 26.515625 48.1875 22.3125 43.546875 \nQ 18.109375 38.921875 18.109375 30.90625 \nL 18.109375 0 \nL 9.078125 0 \nL 9.078125 54.6875 \nL 18.109375 54.6875 \nL 18.109375 46.1875 \nQ 21.34375 51.125 25.703125 53.5625 \nQ 30.078125 56 35.796875 56 \nQ 45.21875 56 50.046875 50.171875 \nQ 54.890625 44.34375 54.890625 33.015625 \nz\n\" id=\"DejaVuSans-110\"/>\n       <path d=\"M 41.109375 46.296875 \nQ 39.59375 47.171875 37.8125 47.578125 \nQ 36.03125 48 33.890625 48 \nQ 26.265625 48 22.1875 43.046875 \nQ 18.109375 38.09375 18.109375 28.8125 \nL 18.109375 0 \nL 9.078125 0 \nL 9.078125 54.6875 \nL 18.109375 54.6875 \nL 18.109375 46.1875 \nQ 20.953125 51.171875 25.484375 53.578125 \nQ 30.03125 56 36.53125 56 \nQ 37.453125 56 38.578125 55.875 \nQ 39.703125 55.765625 41.0625 55.515625 \nz\n\" id=\"DejaVuSans-114\"/>\n       <path d=\"M 45.40625 27.984375 \nQ 45.40625 37.75 41.375 43.109375 \nQ 37.359375 48.484375 30.078125 48.484375 \nQ 22.859375 48.484375 18.828125 43.109375 \nQ 14.796875 37.75 14.796875 27.984375 \nQ 14.796875 18.265625 18.828125 12.890625 \nQ 22.859375 7.515625 30.078125 7.515625 \nQ 37.359375 7.515625 41.375 12.890625 \nQ 45.40625 18.265625 45.40625 27.984375 \nz\nM 54.390625 6.78125 \nQ 54.390625 -7.171875 48.1875 -13.984375 \nQ 42 -20.796875 29.203125 -20.796875 \nQ 24.46875 -20.796875 20.265625 -20.09375 \nQ 16.0625 -19.390625 12.109375 -17.921875 \nL 12.109375 -9.1875 \nQ 16.0625 -11.328125 19.921875 -12.34375 \nQ 23.78125 -13.375 27.78125 -13.375 \nQ 36.625 -13.375 41.015625 -8.765625 \nQ 45.40625 -4.15625 45.40625 5.171875 \nL 45.40625 9.625 \nQ 42.625 4.78125 38.28125 2.390625 \nQ 33.9375 0 27.875 0 \nQ 17.828125 0 11.671875 7.65625 \nQ 5.515625 15.328125 5.515625 27.984375 \nQ 5.515625 40.671875 11.671875 48.328125 \nQ 17.828125 56 27.875 56 \nQ 33.9375 56 38.28125 53.609375 \nQ 42.625 51.21875 45.40625 46.390625 \nL 45.40625 54.6875 \nL 54.390625 54.6875 \nz\n\" id=\"DejaVuSans-103\"/>\n       <path d=\"M 32.171875 -5.078125 \nQ 28.375 -14.84375 24.75 -17.8125 \nQ 21.140625 -20.796875 15.09375 -20.796875 \nL 7.90625 -20.796875 \nL 7.90625 -13.28125 \nL 13.1875 -13.28125 \nQ 16.890625 -13.28125 18.9375 -11.515625 \nQ 21 -9.765625 23.484375 -3.21875 \nL 25.09375 0.875 \nL 2.984375 54.6875 \nL 12.5 54.6875 \nL 29.59375 11.921875 \nL 46.6875 54.6875 \nL 56.203125 54.6875 \nz\n\" id=\"DejaVuSans-121\"/>\n       <path id=\"DejaVuSans-32\"/>\n       <path d=\"M 31 75.875 \nQ 24.46875 64.65625 21.28125 53.65625 \nQ 18.109375 42.671875 18.109375 31.390625 \nQ 18.109375 20.125 21.3125 9.0625 \nQ 24.515625 -2 31 -13.1875 \nL 23.1875 -13.1875 \nQ 15.875 -1.703125 12.234375 9.375 \nQ 8.59375 20.453125 8.59375 31.390625 \nQ 8.59375 42.28125 12.203125 53.3125 \nQ 15.828125 64.359375 23.1875 75.875 \nz\n\" id=\"DejaVuSans-40\"/>\n       <path d=\"M 9.8125 72.90625 \nL 19.671875 72.90625 \nL 19.671875 5.078125 \nQ 19.671875 -8.109375 14.671875 -14.0625 \nQ 9.671875 -20.015625 -1.421875 -20.015625 \nL -5.171875 -20.015625 \nL -5.171875 -11.71875 \nL -2.09375 -11.71875 \nQ 4.4375 -11.71875 7.125 -8.046875 \nQ 9.8125 -4.390625 9.8125 5.078125 \nz\n\" id=\"DejaVuSans-74\"/>\n       <path d=\"M 8.015625 75.875 \nL 15.828125 75.875 \nQ 23.140625 64.359375 26.78125 53.3125 \nQ 30.421875 42.28125 30.421875 31.390625 \nQ 30.421875 20.453125 26.78125 9.375 \nQ 23.140625 -1.703125 15.828125 -13.1875 \nL 8.015625 -13.1875 \nQ 14.5 -2 17.703125 9.0625 \nQ 20.90625 20.125 20.90625 31.390625 \nQ 20.90625 42.671875 17.703125 53.65625 \nQ 14.5 64.65625 8.015625 75.875 \nz\n\" id=\"DejaVuSans-41\"/>\n      </defs>\n      <use xlink:href=\"#DejaVuSans-101\"/>\n      <use x=\"61.523438\" xlink:href=\"#DejaVuSans-110\"/>\n      <use x=\"124.902344\" xlink:href=\"#DejaVuSans-101\"/>\n      <use x=\"186.425781\" xlink:href=\"#DejaVuSans-114\"/>\n      <use x=\"225.789062\" xlink:href=\"#DejaVuSans-103\"/>\n      <use x=\"289.265625\" xlink:href=\"#DejaVuSans-121\"/>\n      <use x=\"348.445312\" xlink:href=\"#DejaVuSans-32\"/>\n      <use x=\"380.232422\" xlink:href=\"#DejaVuSans-40\"/>\n      <use x=\"419.246094\" xlink:href=\"#DejaVuSans-74\"/>\n      <use x=\"448.738281\" xlink:href=\"#DejaVuSans-41\"/>\n     </g>\n    </g>\n    <g id=\"text_10\">\n     <!-- 1e−15 -->\n     <g transform=\"translate(353.340625 267.034687)scale(0.1 -0.1)\">\n      <defs>\n       <path d=\"M 10.59375 35.5 \nL 73.1875 35.5 \nL 73.1875 27.203125 \nL 10.59375 27.203125 \nz\n\" id=\"DejaVuSans-8722\"/>\n      </defs>\n      <use xlink:href=\"#DejaVuSans-49\"/>\n      <use x=\"63.623047\" xlink:href=\"#DejaVuSans-101\"/>\n      <use x=\"125.146484\" xlink:href=\"#DejaVuSans-8722\"/>\n      <use x=\"208.935547\" xlink:href=\"#DejaVuSans-49\"/>\n      <use x=\"272.558594\" xlink:href=\"#DejaVuSans-53\"/>\n     </g>\n    </g>\n   </g>\n   <g id=\"matplotlib.axis_2\">\n    <g id=\"ytick_1\">\n     <g id=\"line2d_9\">\n      <defs>\n       <path d=\"M 0 0 \nL -3.5 0 \n\" id=\"m5c09d21095\" style=\"stroke:#000000;stroke-width:0.8;\"/>\n      </defs>\n      <g>\n       <use style=\"stroke:#000000;stroke-width:0.8;\" x=\"52.160938\" xlink:href=\"#m5c09d21095\" y=\"226.846693\"/>\n      </g>\n     </g>\n     <g id=\"text_11\">\n      <!-- −1.0 -->\n      <g transform=\"translate(20.878125 230.645912)scale(0.1 -0.1)\">\n       <use xlink:href=\"#DejaVuSans-8722\"/>\n       <use x=\"83.789062\" xlink:href=\"#DejaVuSans-49\"/>\n       <use x=\"147.412109\" xlink:href=\"#DejaVuSans-46\"/>\n       <use x=\"179.199219\" xlink:href=\"#DejaVuSans-48\"/>\n      </g>\n     </g>\n    </g>\n    <g id=\"ytick_2\">\n     <g id=\"line2d_10\">\n      <g>\n       <use style=\"stroke:#000000;stroke-width:0.8;\" x=\"52.160938\" xlink:href=\"#m5c09d21095\" y=\"194.210299\"/>\n      </g>\n     </g>\n     <g id=\"text_12\">\n      <!-- −0.5 -->\n      <g transform=\"translate(20.878125 198.009518)scale(0.1 -0.1)\">\n       <use xlink:href=\"#DejaVuSans-8722\"/>\n       <use x=\"83.789062\" xlink:href=\"#DejaVuSans-48\"/>\n       <use x=\"147.412109\" xlink:href=\"#DejaVuSans-46\"/>\n       <use x=\"179.199219\" xlink:href=\"#DejaVuSans-53\"/>\n      </g>\n     </g>\n    </g>\n    <g id=\"ytick_3\">\n     <g id=\"line2d_11\">\n      <g>\n       <use style=\"stroke:#000000;stroke-width:0.8;\" x=\"52.160938\" xlink:href=\"#m5c09d21095\" y=\"161.573905\"/>\n      </g>\n     </g>\n     <g id=\"text_13\">\n      <!-- 0.0 -->\n      <g transform=\"translate(29.257813 165.373123)scale(0.1 -0.1)\">\n       <use xlink:href=\"#DejaVuSans-48\"/>\n       <use x=\"63.623047\" xlink:href=\"#DejaVuSans-46\"/>\n       <use x=\"95.410156\" xlink:href=\"#DejaVuSans-48\"/>\n      </g>\n     </g>\n    </g>\n    <g id=\"ytick_4\">\n     <g id=\"line2d_12\">\n      <g>\n       <use style=\"stroke:#000000;stroke-width:0.8;\" x=\"52.160938\" xlink:href=\"#m5c09d21095\" y=\"128.93751\"/>\n      </g>\n     </g>\n     <g id=\"text_14\">\n      <!-- 0.5 -->\n      <g transform=\"translate(29.257813 132.736729)scale(0.1 -0.1)\">\n       <use xlink:href=\"#DejaVuSans-48\"/>\n       <use x=\"63.623047\" xlink:href=\"#DejaVuSans-46\"/>\n       <use x=\"95.410156\" xlink:href=\"#DejaVuSans-53\"/>\n      </g>\n     </g>\n    </g>\n    <g id=\"ytick_5\">\n     <g id=\"line2d_13\">\n      <g>\n       <use style=\"stroke:#000000;stroke-width:0.8;\" x=\"52.160938\" xlink:href=\"#m5c09d21095\" y=\"96.301116\"/>\n      </g>\n     </g>\n     <g id=\"text_15\">\n      <!-- 1.0 -->\n      <g transform=\"translate(29.257813 100.100335)scale(0.1 -0.1)\">\n       <use xlink:href=\"#DejaVuSans-49\"/>\n       <use x=\"63.623047\" xlink:href=\"#DejaVuSans-46\"/>\n       <use x=\"95.410156\" xlink:href=\"#DejaVuSans-48\"/>\n      </g>\n     </g>\n    </g>\n    <g id=\"ytick_6\">\n     <g id=\"line2d_14\">\n      <g>\n       <use style=\"stroke:#000000;stroke-width:0.8;\" x=\"52.160938\" xlink:href=\"#m5c09d21095\" y=\"63.664722\"/>\n      </g>\n     </g>\n     <g id=\"text_16\">\n      <!-- 1.5 -->\n      <g transform=\"translate(29.257813 67.463941)scale(0.1 -0.1)\">\n       <use xlink:href=\"#DejaVuSans-49\"/>\n       <use x=\"63.623047\" xlink:href=\"#DejaVuSans-46\"/>\n       <use x=\"95.410156\" xlink:href=\"#DejaVuSans-53\"/>\n      </g>\n     </g>\n    </g>\n    <g id=\"ytick_7\">\n     <g id=\"line2d_15\">\n      <g>\n       <use style=\"stroke:#000000;stroke-width:0.8;\" x=\"52.160938\" xlink:href=\"#m5c09d21095\" y=\"31.028328\"/>\n      </g>\n     </g>\n     <g id=\"text_17\">\n      <!-- 2.0 -->\n      <g transform=\"translate(29.257813 34.827546)scale(0.1 -0.1)\">\n       <use xlink:href=\"#DejaVuSans-50\"/>\n       <use x=\"63.623047\" xlink:href=\"#DejaVuSans-46\"/>\n       <use x=\"95.410156\" xlink:href=\"#DejaVuSans-48\"/>\n      </g>\n     </g>\n    </g>\n    <g id=\"text_18\">\n     <!-- derivative of $f_mxf_t$ -->\n     <g transform=\"translate(14.798438 175.688125)rotate(-90)scale(0.1 -0.1)\">\n      <defs>\n       <path d=\"M 45.40625 46.390625 \nL 45.40625 75.984375 \nL 54.390625 75.984375 \nL 54.390625 0 \nL 45.40625 0 \nL 45.40625 8.203125 \nQ 42.578125 3.328125 38.25 0.953125 \nQ 33.9375 -1.421875 27.875 -1.421875 \nQ 17.96875 -1.421875 11.734375 6.484375 \nQ 5.515625 14.40625 5.515625 27.296875 \nQ 5.515625 40.1875 11.734375 48.09375 \nQ 17.96875 56 27.875 56 \nQ 33.9375 56 38.25 53.625 \nQ 42.578125 51.265625 45.40625 46.390625 \nz\nM 14.796875 27.296875 \nQ 14.796875 17.390625 18.875 11.75 \nQ 22.953125 6.109375 30.078125 6.109375 \nQ 37.203125 6.109375 41.296875 11.75 \nQ 45.40625 17.390625 45.40625 27.296875 \nQ 45.40625 37.203125 41.296875 42.84375 \nQ 37.203125 48.484375 30.078125 48.484375 \nQ 22.953125 48.484375 18.875 42.84375 \nQ 14.796875 37.203125 14.796875 27.296875 \nz\n\" id=\"DejaVuSans-100\"/>\n       <path d=\"M 9.421875 54.6875 \nL 18.40625 54.6875 \nL 18.40625 0 \nL 9.421875 0 \nz\nM 9.421875 75.984375 \nL 18.40625 75.984375 \nL 18.40625 64.59375 \nL 9.421875 64.59375 \nz\n\" id=\"DejaVuSans-105\"/>\n       <path d=\"M 2.984375 54.6875 \nL 12.5 54.6875 \nL 29.59375 8.796875 \nL 46.6875 54.6875 \nL 56.203125 54.6875 \nL 35.6875 0 \nL 23.484375 0 \nz\n\" id=\"DejaVuSans-118\"/>\n       <path d=\"M 34.28125 27.484375 \nQ 23.390625 27.484375 19.1875 25 \nQ 14.984375 22.515625 14.984375 16.5 \nQ 14.984375 11.71875 18.140625 8.90625 \nQ 21.296875 6.109375 26.703125 6.109375 \nQ 34.1875 6.109375 38.703125 11.40625 \nQ 43.21875 16.703125 43.21875 25.484375 \nL 43.21875 27.484375 \nz\nM 52.203125 31.203125 \nL 52.203125 0 \nL 43.21875 0 \nL 43.21875 8.296875 \nQ 40.140625 3.328125 35.546875 0.953125 \nQ 30.953125 -1.421875 24.3125 -1.421875 \nQ 15.921875 -1.421875 10.953125 3.296875 \nQ 6 8.015625 6 15.921875 \nQ 6 25.140625 12.171875 29.828125 \nQ 18.359375 34.515625 30.609375 34.515625 \nL 43.21875 34.515625 \nL 43.21875 35.40625 \nQ 43.21875 41.609375 39.140625 45 \nQ 35.0625 48.390625 27.6875 48.390625 \nQ 23 48.390625 18.546875 47.265625 \nQ 14.109375 46.140625 10.015625 43.890625 \nL 10.015625 52.203125 \nQ 14.9375 54.109375 19.578125 55.046875 \nQ 24.21875 56 28.609375 56 \nQ 40.484375 56 46.34375 49.84375 \nQ 52.203125 43.703125 52.203125 31.203125 \nz\n\" id=\"DejaVuSans-97\"/>\n       <path d=\"M 18.3125 70.21875 \nL 18.3125 54.6875 \nL 36.8125 54.6875 \nL 36.8125 47.703125 \nL 18.3125 47.703125 \nL 18.3125 18.015625 \nQ 18.3125 11.328125 20.140625 9.421875 \nQ 21.96875 7.515625 27.59375 7.515625 \nL 36.8125 7.515625 \nL 36.8125 0 \nL 27.59375 0 \nQ 17.1875 0 13.234375 3.875 \nQ 9.28125 7.765625 9.28125 18.015625 \nL 9.28125 47.703125 \nL 2.6875 47.703125 \nL 2.6875 54.6875 \nL 9.28125 54.6875 \nL 9.28125 70.21875 \nz\n\" id=\"DejaVuSans-116\"/>\n       <path d=\"M 30.609375 48.390625 \nQ 23.390625 48.390625 19.1875 42.75 \nQ 14.984375 37.109375 14.984375 27.296875 \nQ 14.984375 17.484375 19.15625 11.84375 \nQ 23.34375 6.203125 30.609375 6.203125 \nQ 37.796875 6.203125 41.984375 11.859375 \nQ 46.1875 17.53125 46.1875 27.296875 \nQ 46.1875 37.015625 41.984375 42.703125 \nQ 37.796875 48.390625 30.609375 48.390625 \nz\nM 30.609375 56 \nQ 42.328125 56 49.015625 48.375 \nQ 55.71875 40.765625 55.71875 27.296875 \nQ 55.71875 13.875 49.015625 6.21875 \nQ 42.328125 -1.421875 30.609375 -1.421875 \nQ 18.84375 -1.421875 12.171875 6.21875 \nQ 5.515625 13.875 5.515625 27.296875 \nQ 5.515625 40.765625 12.171875 48.375 \nQ 18.84375 56 30.609375 56 \nz\n\" id=\"DejaVuSans-111\"/>\n       <path d=\"M 37.109375 75.984375 \nL 37.109375 68.5 \nL 28.515625 68.5 \nQ 23.6875 68.5 21.796875 66.546875 \nQ 19.921875 64.59375 19.921875 59.515625 \nL 19.921875 54.6875 \nL 34.71875 54.6875 \nL 34.71875 47.703125 \nL 19.921875 47.703125 \nL 19.921875 0 \nL 10.890625 0 \nL 10.890625 47.703125 \nL 2.296875 47.703125 \nL 2.296875 54.6875 \nL 10.890625 54.6875 \nL 10.890625 58.5 \nQ 10.890625 67.625 15.140625 71.796875 \nQ 19.390625 75.984375 28.609375 75.984375 \nz\n\" id=\"DejaVuSans-102\"/>\n       <path d=\"M 47.796875 75.984375 \nL 46.390625 68.5 \nL 37.796875 68.5 \nQ 32.90625 68.5 30.6875 66.578125 \nQ 28.46875 64.65625 27.390625 59.515625 \nL 26.421875 54.6875 \nL 41.21875 54.6875 \nL 39.890625 47.703125 \nL 25.09375 47.703125 \nL 15.828125 0 \nL 6.78125 0 \nL 16.109375 47.703125 \nL 7.515625 47.703125 \nL 8.796875 54.6875 \nL 17.390625 54.6875 \nL 18.109375 58.5 \nQ 19.96875 68.171875 24.625 72.078125 \nQ 29.296875 75.984375 39.3125 75.984375 \nz\n\" id=\"DejaVuSans-Oblique-102\"/>\n       <path d=\"M 89.796875 33.015625 \nL 83.40625 0 \nL 74.421875 0 \nL 80.71875 32.71875 \nQ 81.109375 34.8125 81.296875 36.328125 \nQ 81.5 37.84375 81.5 38.921875 \nQ 81.5 43.3125 79.046875 45.75 \nQ 76.609375 48.1875 72.21875 48.1875 \nQ 65.671875 48.1875 60.546875 43.28125 \nQ 55.421875 38.375 53.90625 30.515625 \nL 47.90625 0 \nL 38.921875 0 \nL 45.3125 32.71875 \nQ 45.703125 34.515625 45.890625 36.046875 \nQ 46.09375 37.59375 46.09375 38.8125 \nQ 46.09375 43.265625 43.65625 45.71875 \nQ 41.21875 48.1875 36.921875 48.1875 \nQ 30.28125 48.1875 25.140625 43.28125 \nQ 20.015625 38.375 18.5 30.515625 \nL 12.5 0 \nL 3.515625 0 \nL 14.203125 54.6875 \nL 23.1875 54.6875 \nL 21.484375 46.1875 \nQ 25.140625 50.984375 30.046875 53.484375 \nQ 34.96875 56 40.578125 56 \nQ 46.53125 56 50.359375 52.875 \nQ 54.203125 49.75 54.984375 44.1875 \nQ 59.078125 49.953125 64.46875 52.96875 \nQ 69.875 56 75.875 56 \nQ 82.90625 56 86.734375 51.953125 \nQ 90.578125 47.90625 90.578125 40.484375 \nQ 90.578125 38.875 90.375 36.9375 \nQ 90.1875 35.015625 89.796875 33.015625 \nz\n\" id=\"DejaVuSans-Oblique-109\"/>\n       <path d=\"M 60.015625 54.6875 \nL 34.90625 27.875 \nL 50.296875 0 \nL 39.984375 0 \nL 28.421875 21.6875 \nL 8.296875 0 \nL -2.59375 0 \nL 24.3125 28.8125 \nL 10.015625 54.6875 \nL 20.3125 54.6875 \nL 30.8125 34.90625 \nL 49.125 54.6875 \nz\n\" id=\"DejaVuSans-Oblique-120\"/>\n       <path d=\"M 42.28125 54.6875 \nL 40.921875 47.703125 \nL 23 47.703125 \nL 17.1875 18.015625 \nQ 16.890625 16.359375 16.75 15.234375 \nQ 16.609375 14.109375 16.609375 13.484375 \nQ 16.609375 10.359375 18.484375 8.9375 \nQ 20.359375 7.515625 24.515625 7.515625 \nL 33.59375 7.515625 \nL 32.078125 0 \nL 23.484375 0 \nQ 15.484375 0 11.546875 3.125 \nQ 7.625 6.25 7.625 12.59375 \nQ 7.625 13.71875 7.765625 15.0625 \nQ 7.90625 16.40625 8.203125 18.015625 \nL 14.015625 47.703125 \nL 6.390625 47.703125 \nL 7.8125 54.6875 \nL 15.28125 54.6875 \nL 18.3125 70.21875 \nL 27.296875 70.21875 \nL 24.3125 54.6875 \nz\n\" id=\"DejaVuSans-Oblique-116\"/>\n      </defs>\n      <use transform=\"translate(0 0.015625)\" xlink:href=\"#DejaVuSans-100\"/>\n      <use transform=\"translate(63.476562 0.015625)\" xlink:href=\"#DejaVuSans-101\"/>\n      <use transform=\"translate(125 0.015625)\" xlink:href=\"#DejaVuSans-114\"/>\n      <use transform=\"translate(166.113281 0.015625)\" xlink:href=\"#DejaVuSans-105\"/>\n      <use transform=\"translate(193.896484 0.015625)\" xlink:href=\"#DejaVuSans-118\"/>\n      <use transform=\"translate(253.076172 0.015625)\" xlink:href=\"#DejaVuSans-97\"/>\n      <use transform=\"translate(314.355469 0.015625)\" xlink:href=\"#DejaVuSans-116\"/>\n      <use transform=\"translate(353.564453 0.015625)\" xlink:href=\"#DejaVuSans-105\"/>\n      <use transform=\"translate(381.347656 0.015625)\" xlink:href=\"#DejaVuSans-118\"/>\n      <use transform=\"translate(440.527344 0.015625)\" xlink:href=\"#DejaVuSans-101\"/>\n      <use transform=\"translate(502.050781 0.015625)\" xlink:href=\"#DejaVuSans-32\"/>\n      <use transform=\"translate(533.837891 0.015625)\" xlink:href=\"#DejaVuSans-111\"/>\n      <use transform=\"translate(595.019531 0.015625)\" xlink:href=\"#DejaVuSans-102\"/>\n      <use transform=\"translate(630.224609 0.015625)\" xlink:href=\"#DejaVuSans-32\"/>\n      <use transform=\"translate(662.011719 0.015625)\" xlink:href=\"#DejaVuSans-Oblique-102\"/>\n      <use transform=\"translate(697.216797 -16.390625)scale(0.7)\" xlink:href=\"#DejaVuSans-Oblique-109\"/>\n      <use transform=\"translate(768.139648 0.015625)\" xlink:href=\"#DejaVuSans-Oblique-120\"/>\n      <use transform=\"translate(827.319336 0.015625)\" xlink:href=\"#DejaVuSans-Oblique-102\"/>\n      <use transform=\"translate(862.524414 -16.390625)scale(0.7)\" xlink:href=\"#DejaVuSans-Oblique-116\"/>\n     </g>\n    </g>\n    <g id=\"text_19\">\n     <!-- 1e9 -->\n     <g transform=\"translate(52.160938 19.318125)scale(0.1 -0.1)\">\n      <defs>\n       <path d=\"M 10.984375 1.515625 \nL 10.984375 10.5 \nQ 14.703125 8.734375 18.5 7.8125 \nQ 22.3125 6.890625 25.984375 6.890625 \nQ 35.75 6.890625 40.890625 13.453125 \nQ 46.046875 20.015625 46.78125 33.40625 \nQ 43.953125 29.203125 39.59375 26.953125 \nQ 35.25 24.703125 29.984375 24.703125 \nQ 19.046875 24.703125 12.671875 31.3125 \nQ 6.296875 37.9375 6.296875 49.421875 \nQ 6.296875 60.640625 12.9375 67.421875 \nQ 19.578125 74.21875 30.609375 74.21875 \nQ 43.265625 74.21875 49.921875 64.515625 \nQ 56.59375 54.828125 56.59375 36.375 \nQ 56.59375 19.140625 48.40625 8.859375 \nQ 40.234375 -1.421875 26.421875 -1.421875 \nQ 22.703125 -1.421875 18.890625 -0.6875 \nQ 15.09375 0.046875 10.984375 1.515625 \nz\nM 30.609375 32.421875 \nQ 37.25 32.421875 41.125 36.953125 \nQ 45.015625 41.5 45.015625 49.421875 \nQ 45.015625 57.28125 41.125 61.84375 \nQ 37.25 66.40625 30.609375 66.40625 \nQ 23.96875 66.40625 20.09375 61.84375 \nQ 16.21875 57.28125 16.21875 49.421875 \nQ 16.21875 41.5 20.09375 36.953125 \nQ 23.96875 32.421875 30.609375 32.421875 \nz\n\" id=\"DejaVuSans-57\"/>\n      </defs>\n      <use xlink:href=\"#DejaVuSans-49\"/>\n      <use x=\"63.623047\" xlink:href=\"#DejaVuSans-101\"/>\n      <use x=\"125.146484\" xlink:href=\"#DejaVuSans-57\"/>\n     </g>\n    </g>\n   </g>\n   <g id=\"line2d_16\">\n    <path clip-path=\"url(#p3eeb24168b)\" d=\"M 67.379119 53.614045 \nL 69.980518 47.767695 \nL 72.581917 43.029227 \nL 75.183315 38.966799 \nL 77.784714 35.830675 \nL 80.386112 33.71297 \nL 82.987511 32.502585 \nL 85.58891 32.201761 \nL 88.190308 32.596613 \nL 90.791707 34.842405 \nL 93.393105 37.371136 \nL 95.994504 40.076678 \nL 98.595903 44.50104 \nL 101.197301 48.868978 \nL 103.7987 54.275378 \nL 106.400098 59.973476 \nL 109.001497 66.382894 \nL 111.602896 73.520946 \nL 114.204294 87.052325 \nL 116.805693 93.724312 \nL 119.407091 94.1861 \nL 122.00849 101.123304 \nL 124.609889 107.887771 \nL 127.211287 116.216246 \nL 129.812686 123.68083 \nL 132.414084 131.967954 \nL 135.015483 139.822827 \nL 137.616882 145.940547 \nL 140.21828 152.45599 \nL 142.819679 159.305706 \nL 145.421077 166.177339 \nL 148.022476 172.476535 \nL 150.623875 177.507801 \nL 153.225273 183.608125 \nL 155.826672 189.200299 \nL 158.42807 194.175059 \nL 161.029469 198.937155 \nL 163.630868 202.494978 \nL 166.232266 206.992876 \nL 168.833665 210.152262 \nL 171.435063 212.990209 \nL 174.036462 216.13391 \nL 176.637861 218.750436 \nL 179.239259 221.07567 \nL 181.840658 223.00369 \nL 184.442056 224.298 \nL 187.043455 226.067337 \nL 189.644854 227.477552 \nL 192.246252 228.035893 \nL 194.847651 228.686714 \nL 197.449049 229.478903 \nL 200.050448 229.874489 \nL 202.651847 229.422682 \nL 205.253245 229.092688 \nL 207.854644 229.048689 \nL 210.456042 228.376887 \nL 213.057441 227.655178 \nL 215.65884 227.626456 \nL 218.260238 226.70394 \nL 220.861637 225.601272 \nL 223.463035 224.598559 \nL 226.064434 223.410357 \nL 228.665833 222.341258 \nL 231.267231 220.997552 \nL 233.86863 219.690776 \nL 236.470028 218.334094 \nL 239.071427 216.896563 \nL 241.672826 215.538923 \nL 244.274224 214.306233 \nL 246.875623 212.683824 \nL 249.477021 211.128962 \nL 252.07842 209.773258 \nL 254.679819 208.278223 \nL 257.281217 206.897911 \nL 259.882616 205.237716 \nL 262.484014 203.865431 \nL 265.085413 202.608582 \nL 267.686812 201.074864 \nL 270.28821 199.617167 \nL 272.889609 198.089682 \nL 275.491007 196.996506 \nL 278.092406 195.360796 \nL 280.693805 194.162226 \nL 283.295203 193.441128 \nL 285.896602 191.598866 \nL 288.498 190.485442 \nL 291.099399 189.366111 \nL 293.700798 187.9594 \nL 296.302196 187.034338 \nL 298.903595 186.109275 \nL 301.504993 184.903677 \nL 304.106392 183.887235 \nL 306.707791 183.088201 \nL 309.309189 182.00407 \nL 311.910588 181.006042 \nL 314.511986 180.113001 \nL 317.113385 179.375852 \nL 319.714784 178.591465 \nL 322.316182 177.696448 \nL 324.917581 176.954471 \nL 327.518979 176.251197 \nL 330.120378 175.548921 \nL 332.721777 174.905433 \nL 335.323175 174.241819 \nL 337.924574 173.615748 \nL 340.525972 172.976843 \nL 343.127371 172.444045 \nL 345.72877 171.968508 \nL 348.330168 171.378817 \nL 350.931567 170.865045 \nL 353.532965 170.42377 \nL 356.134364 169.979439 \nL 358.735763 169.526594 \nL 361.337161 169.126018 \nL 363.93856 168.725238 \nL 366.539958 168.336722 \nL 369.141357 168.029114 \nL 371.742756 167.67265 \n\" style=\"fill:none;stroke:#1f77b4;stroke-linecap:square;stroke-width:1.5;\"/>\n   </g>\n   <g id=\"patch_3\">\n    <path d=\"M 52.160938 239.758125 \nL 52.160938 22.318125 \n\" style=\"fill:none;stroke:#000000;stroke-linecap:square;stroke-linejoin:miter;stroke-width:0.8;\"/>\n   </g>\n   <g id=\"patch_4\">\n    <path d=\"M 386.960938 239.758125 \nL 386.960938 22.318125 \n\" style=\"fill:none;stroke:#000000;stroke-linecap:square;stroke-linejoin:miter;stroke-width:0.8;\"/>\n   </g>\n   <g id=\"patch_5\">\n    <path d=\"M 52.160938 239.758125 \nL 386.960938 239.758125 \n\" style=\"fill:none;stroke:#000000;stroke-linecap:square;stroke-linejoin:miter;stroke-width:0.8;\"/>\n   </g>\n   <g id=\"patch_6\">\n    <path d=\"M 52.160938 22.318125 \nL 386.960938 22.318125 \n\" style=\"fill:none;stroke:#000000;stroke-linecap:square;stroke-linejoin:miter;stroke-width:0.8;\"/>\n   </g>\n   <g id=\"text_20\">\n    <!-- 1st derivative wrt energy -->\n    <g transform=\"translate(143.786563 16.318125)scale(0.12 -0.12)\">\n     <defs>\n      <path d=\"M 44.28125 53.078125 \nL 44.28125 44.578125 \nQ 40.484375 46.53125 36.375 47.5 \nQ 32.28125 48.484375 27.875 48.484375 \nQ 21.1875 48.484375 17.84375 46.4375 \nQ 14.5 44.390625 14.5 40.28125 \nQ 14.5 37.15625 16.890625 35.375 \nQ 19.28125 33.59375 26.515625 31.984375 \nL 29.59375 31.296875 \nQ 39.15625 29.25 43.1875 25.515625 \nQ 47.21875 21.78125 47.21875 15.09375 \nQ 47.21875 7.46875 41.1875 3.015625 \nQ 35.15625 -1.421875 24.609375 -1.421875 \nQ 20.21875 -1.421875 15.453125 -0.5625 \nQ 10.6875 0.296875 5.421875 2 \nL 5.421875 11.28125 \nQ 10.40625 8.6875 15.234375 7.390625 \nQ 20.0625 6.109375 24.8125 6.109375 \nQ 31.15625 6.109375 34.5625 8.28125 \nQ 37.984375 10.453125 37.984375 14.40625 \nQ 37.984375 18.0625 35.515625 20.015625 \nQ 33.0625 21.96875 24.703125 23.78125 \nL 21.578125 24.515625 \nQ 13.234375 26.265625 9.515625 29.90625 \nQ 5.8125 33.546875 5.8125 39.890625 \nQ 5.8125 47.609375 11.28125 51.796875 \nQ 16.75 56 26.8125 56 \nQ 31.78125 56 36.171875 55.265625 \nQ 40.578125 54.546875 44.28125 53.078125 \nz\n\" id=\"DejaVuSans-115\"/>\n      <path d=\"M 4.203125 54.6875 \nL 13.1875 54.6875 \nL 24.421875 12.015625 \nL 35.59375 54.6875 \nL 46.1875 54.6875 \nL 57.421875 12.015625 \nL 68.609375 54.6875 \nL 77.59375 54.6875 \nL 63.28125 0 \nL 52.6875 0 \nL 40.921875 44.828125 \nL 29.109375 0 \nL 18.5 0 \nz\n\" id=\"DejaVuSans-119\"/>\n     </defs>\n     <use xlink:href=\"#DejaVuSans-49\"/>\n     <use x=\"63.623047\" xlink:href=\"#DejaVuSans-115\"/>\n     <use x=\"115.722656\" xlink:href=\"#DejaVuSans-116\"/>\n     <use x=\"154.931641\" xlink:href=\"#DejaVuSans-32\"/>\n     <use x=\"186.71875\" xlink:href=\"#DejaVuSans-100\"/>\n     <use x=\"250.195312\" xlink:href=\"#DejaVuSans-101\"/>\n     <use x=\"311.71875\" xlink:href=\"#DejaVuSans-114\"/>\n     <use x=\"352.832031\" xlink:href=\"#DejaVuSans-105\"/>\n     <use x=\"380.615234\" xlink:href=\"#DejaVuSans-118\"/>\n     <use x=\"439.794922\" xlink:href=\"#DejaVuSans-97\"/>\n     <use x=\"501.074219\" xlink:href=\"#DejaVuSans-116\"/>\n     <use x=\"540.283203\" xlink:href=\"#DejaVuSans-105\"/>\n     <use x=\"568.066406\" xlink:href=\"#DejaVuSans-118\"/>\n     <use x=\"627.246094\" xlink:href=\"#DejaVuSans-101\"/>\n     <use x=\"688.769531\" xlink:href=\"#DejaVuSans-32\"/>\n     <use x=\"720.556641\" xlink:href=\"#DejaVuSans-119\"/>\n     <use x=\"802.34375\" xlink:href=\"#DejaVuSans-114\"/>\n     <use x=\"843.457031\" xlink:href=\"#DejaVuSans-116\"/>\n     <use x=\"882.666016\" xlink:href=\"#DejaVuSans-32\"/>\n     <use x=\"914.453125\" xlink:href=\"#DejaVuSans-101\"/>\n     <use x=\"975.976562\" xlink:href=\"#DejaVuSans-110\"/>\n     <use x=\"1039.355469\" xlink:href=\"#DejaVuSans-101\"/>\n     <use x=\"1100.878906\" xlink:href=\"#DejaVuSans-114\"/>\n     <use x=\"1140.242188\" xlink:href=\"#DejaVuSans-103\"/>\n     <use x=\"1203.71875\" xlink:href=\"#DejaVuSans-121\"/>\n    </g>\n   </g>\n  </g>\n </g>\n <defs>\n  <clipPath id=\"p3eeb24168b\">\n   <rect height=\"217.44\" width=\"334.8\" x=\"52.160938\" y=\"22.318125\"/>\n  </clipPath>\n </defs>\n</svg>\n",
      "image/png": "[encoded data removed]"
     },
     "metadata": {
      "needs_background": "light"
     }
    }
   ],
   "source": [
    "prod = np.asarray([f1*f2 for f1,f2 in zip(fm, ft)])\n",
    "d_prod = []\n",
    "for i in range(1,len(en)-1):\n",
    "    del_en = (en[i+1]-en[i-1])/2\n",
    "    d = (prod[i+1]-prod[i-1])/(2*del_en)\n",
    "    d_prod.append(d)\n",
    "en_d = en[1:-1]\n",
    "plt.plot(en_d, d_prod)\n",
    "plt.xlabel('energy (J)')\n",
    "plt.ylabel('derivative of $f_mxf_t$')\n",
    "plt.title('1st derivative wrt energy')\n",
    "plt.show()"
   ]
  },
  {
   "cell_type": "markdown",
   "metadata": {},
   "source": [
    "## Part IV"
   ]
  },
  {
   "cell_type": "code",
   "execution_count": 13,
   "metadata": {},
   "outputs": [],
   "source": [
    "d2_prod = []\n",
    "for i in range(1,len(en)-1):\n",
    "    num = prod[i+1]-2*prod[i]+prod[i-1]\n",
    "    del_en = (en[i+1]-en[i-1])/2\n",
    "    denom = (del_en)**2\n",
    "    d2 = num/denom\n",
    "    d2_prod.append(d2)"
   ]
  },
  {
   "cell_type": "code",
   "execution_count": 14,
   "metadata": {
    "tags": []
   },
   "outputs": [
    {
     "output_type": "stream",
     "name": "stdout",
     "text": "Zero of derivative occurs at:[9.61308e-16] J\nvalue of 2nd derivative at this point: -7.09e+24\n"
    }
   ],
   "source": [
    "def find_zero(y,x):\n",
    "    zeros = []\n",
    "    zero_index = []\n",
    "    for i in range(len(x)-1):\n",
    "        sign = y[i+1]*y[i]\n",
    "        if(sign<0):\n",
    "            zeros.append(x[i])\n",
    "            zero_index.append(i)\n",
    "    return zeros , zero_index\n",
    "en_zero , index_zero = (find_zero(d_prod , en_d))\n",
    "print('Zero of derivative occurs at:{} J'.format(en_zero))\n",
    "print('value of 2nd derivative at this point: {:.2e}'.format(d2_prod[index_zero[0]]))"
   ]
  },
  {
   "cell_type": "markdown",
   "metadata": {},
   "source": [
    "## Part V"
   ]
  },
  {
   "cell_type": "code",
   "execution_count": 15,
   "metadata": {},
   "outputs": [],
   "source": [
    "fm_th  = np.exp(-(1/(kb*T))*en)\n",
    "ft_th  = np.exp(-b/(en**0.5))\n",
    "def calc_fm_th(en):\n",
    "    fm_th  = np.exp(-(1/(kb*T))*en)\n",
    "    return fm_tm\n",
    "\n",
    "def calc_prod_th(en):\n",
    "    val = np.exp(-en/(kb*T)-(b/(en**0.5)))\n",
    "    return val\n"
   ]
  },
  {
   "cell_type": "code",
   "execution_count": 16,
   "metadata": {
    "tags": []
   },
   "outputs": [
    {
     "output_type": "stream",
     "name": "stdout",
     "text": "area under curve for given data (product of ft*fm): 7.471e-22\n"
    }
   ],
   "source": [
    "integ = []\n",
    "for i in range(len(en)-1):\n",
    "    del_en = en[i+1]-en[i]\n",
    "    val = (prod[i+1]+prod[i])*(del_en/2)\n",
    "    integ.append(val)\n",
    "prod_integ = sum(integ)\n",
    "print('area under curve for given data (product of ft*fm): {:.3e}'.format(prod_integ))"
   ]
  },
  {
   "cell_type": "markdown",
   "metadata": {},
   "source": [
    "using simpson for calculating theoratical integral\n",
    "energy range selected :energy range given in the data"
   ]
  },
  {
   "cell_type": "code",
   "execution_count": 17,
   "metadata": {
    "tags": []
   },
   "outputs": [
    {
     "output_type": "stream",
     "name": "stdout",
     "text": "area under curve for theoratical estimated parameters: 7.452e-22\n"
    }
   ],
   "source": [
    "prod_integ_th = integral(calc_prod_th , en[0],en[-1], len(en))\n",
    "print('area under curve for theoratical estimated parameters: {:.3e}'.format(prod_integ_th))"
   ]
  }
 ]
}