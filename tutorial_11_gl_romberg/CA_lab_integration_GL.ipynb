{
  "nbformat": 4,
  "nbformat_minor": 0,
  "metadata": {
    "colab": {
      "name": "CA_lab_integration_GL.ipynb",
      "provenance": []
    },
    "kernelspec": {
      "name": "python3",
      "display_name": "Python 3"
    }
  },
  "cells": [
    {
      "cell_type": "markdown",
      "metadata": {
        "id": "JyyU6jcnBIZK"
      },
      "source": [
        "#Romberg's Integration\n",
        "#### Computational Astrophysics\n",
        "* Shivam Kumaran\n",
        "* SC17B122\n",
        "* 26 Oct 2020\n",
        "\n",
        "[Open Program](https://colab.research.google.com/drive/11YPIzDISYJXHbFTVyaCotM-rusAvdaFS?usp=sharing)\n"
      ]
    },
    {
      "cell_type": "markdown",
      "metadata": {
        "id": "Ny98GcLVBPE2"
      },
      "source": [
        "### Function Transformation\n",
        "> Transforming Function to convert \\\\\n",
        "> integration limit (-1,1)\n"
      ]
    },
    {
      "cell_type": "code",
      "metadata": {
        "id": "AHZrdbjtBzMJ"
      },
      "source": [
        "import numpy as np"
      ],
      "execution_count": 1,
      "outputs": []
    },
    {
      "cell_type": "code",
      "metadata": {
        "id": "K41qsntpBOWz"
      },
      "source": [
        "def trans_f(f, a, b):\n",
        "    '''\n",
        "    Returns transformed function,\n",
        "    Such that the limits of integration\n",
        "    will be -1,1\n",
        "    '''\n",
        "    m = (b-a)/2\n",
        "    c = (b+a)/2\n",
        "    def f_mod(x):\n",
        "        val = ((b-a)/2)*f(m*x+c)\n",
        "        #print(val)\n",
        "        return val\n",
        "    return f_mod"
      ],
      "execution_count": 2,
      "outputs": []
    },
    {
      "cell_type": "markdown",
      "metadata": {
        "id": "FXnpMuXiNnXx"
      },
      "source": [
        "### Calculation of integral , \n",
        "For given value of \n",
        "* Number of points <b>N</b>\n",
        "* Given Function - f\n",
        "* Integration Limits (a,b)"
      ]
    },
    {
      "cell_type": "code",
      "metadata": {
        "id": "bRTl2vuCB5e1"
      },
      "source": [
        "def calc_gauss(f ,a, b , N):\n",
        "    #obtains weights and roots from Numpy function\n",
        "    x,w = np.polynomial.legendre.leggauss(N)\n",
        "    # transforms function to match limits (-1,1)\n",
        "    val = [trans_f(f,a,b)(x_n) for x_n in x]\n",
        "    return(np.dot(val ,w))"
      ],
      "execution_count": 56,
      "outputs": []
    },
    {
      "cell_type": "markdown",
      "metadata": {
        "id": "xZAs0wteOT0E"
      },
      "source": [
        "### Analysis\n",
        "Given Function and the integation limit,\n",
        "<br>here we find the number of poiints of evaluation of integral\n",
        "<br> Corresponding to the provided precision\n",
        "\n",
        "> returns N , Integral Value, corresponding error"
      ]
    },
    {
      "cell_type": "code",
      "metadata": {
        "id": "VGXs58QaCUmR"
      },
      "source": [
        "def analysis(f,a,b,e):\n",
        "    err = 1\n",
        "    prev = calc_gauss(f,a,b,1)\n",
        "    i = 2\n",
        "    while(err>e):\n",
        "        nxt = calc_gauss(f,a,b,i)\n",
        "        err = abs(prev-nxt)\n",
        "        prev = nxt\n",
        "        i+=1\n",
        "    return(i-1 , nxt , format(err , '1.2e'))\n"
      ],
      "execution_count": 57,
      "outputs": []
    },
    {
      "cell_type": "markdown",
      "metadata": {
        "id": "WC_J869OOwZP"
      },
      "source": [
        "# Problem Function 01"
      ]
    },
    {
      "cell_type": "code",
      "metadata": {
        "id": "OmXFdX7cCXqE",
        "outputId": "0acc7893-f8e6-4e3a-c2b2-e45031e6ac4c",
        "colab": {
          "base_uri": "https://localhost:8080/",
          "height": 68
        }
      },
      "source": [
        "def f_a(x):\n",
        "    val = np.exp(-1*x**2)\n",
        "    return val\n",
        "\n",
        "a,b = 0,2\n",
        "e = 1e-8\n",
        "N , val , err = analysis(f_a,a,b,e)\n",
        "print(\"N: {}\\nIntegration Value:{:.8f}\\nError{}\".format(N,val,err))"
      ],
      "execution_count": 29,
      "outputs": [
        {
          "output_type": "stream",
          "text": [
            "N: 8\n",
            "Integration Value:0.88208139\n",
            "Error  7.13E-09\n"
          ],
          "name": "stdout"
        }
      ]
    },
    {
      "cell_type": "markdown",
      "metadata": {
        "id": "jEAE2cd7O3yx"
      },
      "source": [
        "## Problem function 02"
      ]
    },
    {
      "cell_type": "code",
      "metadata": {
        "id": "ki5zw2e5ELB8",
        "outputId": "8889eadb-382b-4358-8b8b-e8c36fefc35d",
        "colab": {
          "base_uri": "https://localhost:8080/",
          "height": 68
        }
      },
      "source": [
        "def f_b(k):\n",
        "    def f(x):\n",
        "        val=1/((1-k*(np.sin(x))**2)**0.5)\n",
        "        return val\n",
        "    return f\n",
        "\n",
        "k=0.2\n",
        "a,b = 0,2\n",
        "e = 1e-8\n",
        "N , val , err = analysis(f_b(k),a,b,e)\n",
        "print(\"N : {}\\nIntegration Value : {:.8f}\\nError : {}\".format(N,val,err))"
      ],
      "execution_count": 46,
      "outputs": [
        {
          "output_type": "stream",
          "text": [
            "N : 8\n",
            "Integration Value : 2.13600612\n",
            "Error : 1.24e-10\n"
          ],
          "name": "stdout"
        }
      ]
    },
    {
      "cell_type": "markdown",
      "metadata": {
        "id": "pIZVNq0yO7VG"
      },
      "source": [
        "### Function 02 : K dependecy "
      ]
    },
    {
      "cell_type": "code",
      "metadata": {
        "id": "o7QYvrzlA3DU",
        "outputId": "2e98dee7-d449-4657-debe-2aadb13fd013",
        "colab": {
          "base_uri": "https://localhost:8080/",
          "height": 221
        }
      },
      "source": [
        "k=0.2\n",
        "a,b = 0,2\n",
        "e = 1e-8\n",
        "k_list = np.linspace(0 ,  0.9 , 10)\n",
        "print('K \\t \\t N \\t Value \\t \\t Error')\n",
        "print('_______________________________________________')\n",
        "for k in k_list:\n",
        "    N , integ_val , err = analysis(f_b(k),a,b,e)\n",
        "    print('{:.6f} \\t {} \\t  {:.8f} \\t {}'.format(k, N ,integ_val, err))"
      ],
      "execution_count": 58,
      "outputs": [
        {
          "output_type": "stream",
          "text": [
            "K \t \t N \t Value \t \t Error\n",
            "_______________________________________________\n",
            "0.000000 \t 2 \t  2.00000000 \t 0.00e+00\n",
            "0.100000 \t 8 \t  2.06338710 \t 1.11e-09\n",
            "0.200000 \t 8 \t  2.13600612 \t 1.24e-10\n",
            "0.300000 \t 10 \t  2.22059055 \t 2.13e-09\n",
            "0.400000 \t 10 \t  2.32122529 \t 9.21e-09\n",
            "0.500000 \t 12 \t  2.44438264 \t 4.13e-09\n",
            "0.600000 \t 13 \t  2.60116462 \t 3.57e-09\n",
            "0.700000 \t 15 \t  2.81292508 \t 4.76e-10\n",
            "0.800000 \t 17 \t  3.12896328 \t 2.98e-09\n",
            "0.900000 \t 24 \t  3.71144323 \t 2.88e-09\n"
          ],
          "name": "stdout"
        }
      ]
    },
    {
      "cell_type": "markdown",
      "metadata": {
        "id": "d-df8-3QPE5z"
      },
      "source": [
        "### Conclusion\n",
        "We see that the nuber of points depends on the <br>\n",
        "value of k, which increases as k approaches 1"
      ]
    },
    {
      "cell_type": "code",
      "metadata": {
        "id": "Ok_csT-bPPhI"
      },
      "source": [
        ""
      ],
      "execution_count": null,
      "outputs": []
    }
  ]
}