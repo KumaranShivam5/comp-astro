{
  "nbformat": 4,
  "nbformat_minor": 0,
  "metadata": {
    "colab": {
      "name": "CA_lab_integration_romberg.ipynb",
      "provenance": [],
      "collapsed_sections": []
    },
    "kernelspec": {
      "name": "python3",
      "display_name": "Python 3"
    }
  },
  "cells": [
    {
      "cell_type": "markdown",
      "metadata": {
        "id": "v7ygmsQfMgqt"
      },
      "source": [
        "#Romberg's Integration\n",
        "#### Computational Astrophysics\n",
        "* Shivam Kumaran\n",
        "* SC17B122\n",
        "* 26 Oct 2020\n",
        "\n",
        "[Open Program](https://colab.research.google.com/drive/1_8t_4j2qUSNikT9UvJ-3QjiY5PGyKs1Z?usp=sharing)"
      ]
    },
    {
      "cell_type": "code",
      "metadata": {
        "id": "TeEw05NJfs6i"
      },
      "source": [
        "import numpy as np"
      ],
      "execution_count": null,
      "outputs": []
    },
    {
      "cell_type": "markdown",
      "metadata": {
        "id": "-RSQVimJ9z2U"
      },
      "source": [
        "## Defining Composite trapezoidal rule\n"
      ]
    },
    {
      "cell_type": "code",
      "metadata": {
        "id": "1GhN5M6rfhYD"
      },
      "source": [
        "def integral(f,a_0,b_0,n,kind='simp'):\n",
        "    h = (b_0-a_0)/n\n",
        "    t0 = f(a_0)+f(b_0)\n",
        "    \n",
        "    if(kind=='tpz'):\n",
        "        t1 = sum([f(a_0+k*h) for k in range(1,n)])\n",
        "        val = (h/2)*(t0+2*t1)\n",
        "    return(val)"
      ],
      "execution_count": null,
      "outputs": []
    },
    {
      "cell_type": "markdown",
      "metadata": {
        "id": "scZRSuFS96D_"
      },
      "source": [
        "# Calculation of Romberg's integration\n",
        "> For given value of (m,n)  \n",
        "*using recurrent function*\n"
      ]
    },
    {
      "cell_type": "code",
      "metadata": {
        "id": "COuqrXs2fmiY"
      },
      "source": [
        "def calc_r(f,a,b,i,j):\n",
        "    if(j<=i):\n",
        "        if(j==1):\n",
        "            #print('calculating: ' , i, j)\n",
        "            val = integral(f,a,b,int(2**(i-1)), kind='tpz')\n",
        "            return(val)\n",
        "        else:\n",
        "            r_i_jm1 = calc_r(f,a,b,i,j-1)\n",
        "            r_im1_jm1 =  calc_r(f,a,b,i-1,j-1)\n",
        "            r_ij =( 4**(j-1)*r_i_jm1 - r_im1_jm1 ) / (4**(j-1)-1)\n",
        "        return r_ij\n",
        "    else:\n",
        "        print('Wrong indices')\n",
        "        return(0)\n",
        "\n",
        "\n"
      ],
      "execution_count": null,
      "outputs": []
    },
    {
      "cell_type": "markdown",
      "metadata": {
        "id": "yAuYIHFH-KR4"
      },
      "source": [
        "# Matrix for Romberg's integration\n",
        "Returns Matrix corresponding to Romberg's integration value, \\\n",
        "Size of this matrix is limited to that of the given accuracy or \\\n",
        "The limiting size provided by the user (smaller of the two) \\"
      ]
    },
    {
      "cell_type": "code",
      "metadata": {
        "id": "mizQCMYlf4qL"
      },
      "source": [
        "\n",
        "def romberg_mat(f,a,b,m,n,e):\n",
        "    '''\n",
        "    f : integrand function\n",
        "    a,b : integral limits\n",
        "    m ,n :  maximum order\n",
        "    e : desired accuracy\n",
        "    returns: romberg matrix of size corresponding \n",
        "            to size computed upto given error value ,\n",
        "            or the maximum order given\n",
        "    '''\n",
        "    err = 1 \n",
        "    prev = calc_r(f,a,b,1,1)\n",
        "    mat = np.zeros((m,n))\n",
        "    mat[0][0] = prev\n",
        "    j_max = 0\n",
        "    for i in range(2,m+1):\n",
        "        for j in range(1,i+1):\n",
        "            if(j_max<j):\n",
        "                j_max = j\n",
        "            #print(i,j)\n",
        "            nxt = calc_r(f,a,b,i,j)\n",
        "            mat[i-1][j-1] = nxt\n",
        "            err = abs(prev-nxt)\n",
        "            if(err<e):\n",
        "                #print(i,j)\n",
        "                mat = mat[:i,:j_max]\n",
        "                #order = 2**np.shape(mat)[0] , np.shape(mat)[1]+1\n",
        "                return mat , (i,j) \n",
        "            else:\n",
        "                prev = nxt\n",
        "            \n",
        "    raise ValueError('Accuracy could not be achieved with given order limit')\n"
      ],
      "execution_count": null,
      "outputs": []
    },
    {
      "cell_type": "code",
      "metadata": {
        "id": "PH-IEjO5fIES"
      },
      "source": [
        "def tabulate(res , order):\n",
        "    m , n = res.shape \n",
        "    print('# intervals , Order >'+str(np.arange(1,n+1)))\n",
        "    for i in range(0,m):\n",
        "        if(i+1==order[0]):\n",
        "            print('{}\\t : {}'.format(2**i , res[i,:order[1]]))\n",
        "        else:\n",
        "            print('{}\\t : {}'.format(2**i , res[i,:i+1]))\n",
        "    print(\"required accuracy achieved at order :{}\".format(str(order)) )\n",
        "#for i in range(1,10):\n",
        "\n",
        "#    print(calc_r(f,0,1,i,i))\n",
        "\n"
      ],
      "execution_count": null,
      "outputs": []
    },
    {
      "cell_type": "markdown",
      "metadata": {
        "id": "sBs-D227pg2U"
      },
      "source": [
        "#Problem 01"
      ]
    },
    {
      "cell_type": "markdown",
      "metadata": {
        "id": "xcNhtglgq85b"
      },
      "source": [
        "### Function I"
      ]
    },
    {
      "cell_type": "code",
      "metadata": {
        "id": "tqXHTzRtgmbK",
        "outputId": "f9dff5ba-4432-4bb7-c27c-23781b5fec6b",
        "colab": {
          "base_uri": "https://localhost:8080/",
          "height": 153
        }
      },
      "source": [
        "n_max , m_max = 7,7\n",
        "a ,b = 0,1\n",
        "e = 1e-8 \n",
        "def f(x):\n",
        "    val = np.exp(-1*x**2)\n",
        "    return val\n",
        "res , order = romberg_mat(f,a,b,n_max,m_max,e)\n",
        "tabulate(res,order)\n",
        "integ_val = res[order[0]-1][order[1]-1]\n",
        "print('integration Value is :{:.8f}'.format(integ_val))"
      ],
      "execution_count": null,
      "outputs": [
        {
          "output_type": "stream",
          "text": [
            "# intervals , Order >[1 2 3 4]\n",
            "1\t : [0.68393972]\n",
            "2\t : [0.73137025 0.74718043]\n",
            "4\t : [0.7429841  0.74685538 0.74683371]\n",
            "8\t : [0.74586561 0.74682612 0.74682417 0.74682402]\n",
            "16\t : [0.7465846  0.74682426 0.74682413 0.74682413]\n",
            "required accuracy achieved at order :(5, 4)\n",
            "integration Value is :0.74682413\n"
          ],
          "name": "stdout"
        }
      ]
    },
    {
      "cell_type": "markdown",
      "metadata": {
        "id": "r0dzBZsFrAaa"
      },
      "source": [
        "### Function II"
      ]
    },
    {
      "cell_type": "code",
      "metadata": {
        "id": "oHSY2mleqsLU",
        "outputId": "81dba6b8-2f87-4e67-8bf9-3154e356c86d",
        "colab": {
          "base_uri": "https://localhost:8080/",
          "height": 153
        }
      },
      "source": [
        "np.set_printoptions(linewidth=140) \n",
        "def f_b(k):\n",
        "    def f(x):\n",
        "        if(k==1):\n",
        "            if(np.sin(x)==1):\n",
        "                val = 0\n",
        "        else:\n",
        "            val=1/((1-k*(np.sin(x))**2)**0.5)\n",
        "        return val\n",
        "    return f\n",
        "k = 0.5\n",
        "n_max , m_max = 20,20\n",
        "e = 1e-8\n",
        "a , b = 0 ,  np.pi/2\n",
        "res , order = romberg_mat(f_b(k),a,b,n_max,m_max,e)\n",
        "tabulate(res , order)\n",
        "integ_val = res[order[0]-1][order[1]-1]\n",
        "print('integration Value is :{:.8f}'.format(integ_val))"
      ],
      "execution_count": null,
      "outputs": [
        {
          "output_type": "stream",
          "text": [
            "# intervals , Order >[1 2 3 4]\n",
            "1\t : [1.8961189]\n",
            "2\t : [1.85495913 1.84123921]\n",
            "4\t : [1.85407523 1.85378059 1.85461669]\n",
            "8\t : [1.85407468 1.85407449 1.85409409 1.85408579]\n",
            "16\t : [1.85407468 1.85407468]\n",
            "required accuracy achieved at order :(5, 2)\n",
            "integration Value is :1.85407468\n"
          ],
          "name": "stdout"
        }
      ]
    },
    {
      "cell_type": "markdown",
      "metadata": {
        "id": "seIqS82HtX-K"
      },
      "source": [
        "> Function II , K dependency\n"
      ]
    },
    {
      "cell_type": "code",
      "metadata": {
        "id": "MNaPtoUlrkRH",
        "outputId": "564a5df0-c616-4ac8-df7c-bf88c5507160",
        "colab": {
          "base_uri": "https://localhost:8080/",
          "height": 221
        }
      },
      "source": [
        "k_list = np.linspace(0 ,  0.99999 , 10)\n",
        "print('K \\t \\t (n,m) \\t \\t Integration Value')\n",
        "print('_______________________________________________')\n",
        "for k in k_list:\n",
        "    res , order = romberg_mat(f_b(k),a,b,n_max,m_max,e)\n",
        "    integ_val = res[order[0]-1][order[1]-1]\n",
        "    print('{:.6f} \\t {} \\t , {:.8f}'.format(k, order ,integ_val))"
      ],
      "execution_count": null,
      "outputs": [
        {
          "output_type": "stream",
          "text": [
            "K \t \t (n,m) \t \t Integration Value\n",
            "_______________________________________________\n",
            "0.000000 \t (2, 1) \t , 1.57079633\n",
            "0.111110 \t (4, 2) \t , 1.61738624\n",
            "0.222220 \t (4, 2) \t , 1.67100320\n",
            "0.333330 \t (4, 2) \t , 1.73391483\n",
            "0.444440 \t (5, 2) \t , 1.80966414\n",
            "0.555550 \t (5, 2) \t , 1.90423606\n",
            "0.666660 \t (5, 2) \t , 2.02895033\n",
            "0.777770 \t (6, 2) \t , 2.20946813\n",
            "0.888880 \t (6, 2) \t , 2.52858806\n",
            "0.999990 \t (12, 10) \t , 7.14279279\n"
          ],
          "name": "stdout"
        }
      ]
    },
    {
      "cell_type": "markdown",
      "metadata": {
        "id": "ZaZoadFjr2YY"
      },
      "source": [
        "### Conclusion\n",
        "We see that the number of interval required depends on value of K.\n",
        "With K approaching 1 , the order required also increases. And we have no finite value of integration for k=1."
      ]
    }
  ]
}