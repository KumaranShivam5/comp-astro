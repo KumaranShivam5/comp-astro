{
 "metadata": {
  "language_info": {
   "codemirror_mode": {
    "name": "ipython",
    "version": 3
   },
   "file_extension": ".py",
   "mimetype": "text/x-python",
   "name": "python",
   "nbconvert_exporter": "python",
   "pygments_lexer": "ipython3",
   "version": "3.7.3-final"
  },
  "orig_nbformat": 2,
  "kernelspec": {
   "name": "python_defaultSpec_1602182174725",
   "display_name": "Python 3.7.3 64-bit"
  }
 },
 "nbformat": 4,
 "nbformat_minor": 2,
 "cells": [
  {
   "cell_type": "code",
   "execution_count": 7,
   "metadata": {},
   "outputs": [],
   "source": [
    "import numpy as np"
   ]
  },
  {
   "cell_type": "code",
   "execution_count": 8,
   "metadata": {
    "tags": []
   },
   "outputs": [
    {
     "output_type": "stream",
     "name": "stdout",
     "text": "[[ 2  3 -4 12]\n [ 1  5 -1 12]\n [ 3  7 -3 20]]\n"
    }
   ],
   "source": [
    "m = np.asarray([[2,3,-4,12],[1,5,-1,12],[3,7,-3,20]])\n",
    "print(m)"
   ]
  },
  {
   "cell_type": "code",
   "execution_count": 9,
   "metadata": {},
   "outputs": [],
   "source": [
    "def update_row(r2,r1):\n",
    "    coeff = r2[0]/r1[0]\n",
    "    r_temp = r2 - coeff*r1\n",
    "    return(r_temp)"
   ]
  },
  {
   "cell_type": "code",
   "execution_count": 10,
   "metadata": {
    "tags": []
   },
   "outputs": [
    {
     "output_type": "stream",
     "name": "stdout",
     "text": "[0.  3.5 1.  6. ]\n"
    }
   ],
   "source": [
    "r1 = np.asarray([2,3,-4,12])\n",
    "r2 = np.asarray([1,5,-1,12])\n",
    "r2 = update_row(r2,r1)\n",
    "print(r2)"
   ]
  },
  {
   "cell_type": "code",
   "execution_count": 11,
   "metadata": {
    "tags": []
   },
   "outputs": [
    {
     "output_type": "error",
     "ename": "NameError",
     "evalue": "name 'run_itr' is not defined",
     "traceback": [
      "\u001b[0;31m---------------------------------------------------------------------------\u001b[0m",
      "\u001b[0;31mNameError\u001b[0m                                 Traceback (most recent call last)",
      "\u001b[0;32m<ipython-input-11-95ec46afd138>\u001b[0m in \u001b[0;36m<module>\u001b[0;34m\u001b[0m\n\u001b[1;32m      6\u001b[0m         \u001b[0mm_temp\u001b[0m\u001b[0;34m.\u001b[0m\u001b[0mappend\u001b[0m\u001b[0;34m(\u001b[0m\u001b[0mupdate_row\u001b[0m\u001b[0;34m(\u001b[0m\u001b[0mmat\u001b[0m\u001b[0;34m[\u001b[0m\u001b[0mi\u001b[0m\u001b[0;34m]\u001b[0m\u001b[0;34m,\u001b[0m\u001b[0mmat\u001b[0m\u001b[0;34m[\u001b[0m\u001b[0;36m0\u001b[0m\u001b[0;34m]\u001b[0m\u001b[0;34m)\u001b[0m\u001b[0;34m)\u001b[0m\u001b[0;34m\u001b[0m\u001b[0;34m\u001b[0m\u001b[0m\n\u001b[1;32m      7\u001b[0m     \u001b[0;32mreturn\u001b[0m \u001b[0;34m(\u001b[0m\u001b[0mnp\u001b[0m\u001b[0;34m.\u001b[0m\u001b[0masarray\u001b[0m\u001b[0;34m(\u001b[0m\u001b[0mm_temp\u001b[0m\u001b[0;34m)\u001b[0m \u001b[0;34m)\u001b[0m\u001b[0;34m\u001b[0m\u001b[0;34m\u001b[0m\u001b[0m\n\u001b[0;32m----> 8\u001b[0;31m \u001b[0mm_updated\u001b[0m \u001b[0;34m=\u001b[0m \u001b[0mrun_itr\u001b[0m\u001b[0;34m(\u001b[0m\u001b[0mm\u001b[0m\u001b[0;34m)\u001b[0m\u001b[0;34m\u001b[0m\u001b[0;34m\u001b[0m\u001b[0m\n\u001b[0m\u001b[1;32m      9\u001b[0m \u001b[0mprint\u001b[0m\u001b[0;34m(\u001b[0m\u001b[0mm_updated\u001b[0m\u001b[0;34m)\u001b[0m\u001b[0;34m\u001b[0m\u001b[0;34m\u001b[0m\u001b[0m\n",
      "\u001b[0;31mNameError\u001b[0m: name 'run_itr' is not defined"
     ]
    }
   ],
   "source": [
    "def run_sub_mat(mat):\n",
    "    m_temp = []\n",
    "    m_temp.append(mat[0])\n",
    "    for i in range(1,np.shape(mat)[0]):\n",
    "        #print(i,i-1)\n",
    "        m_temp.append(update_row(mat[i],mat[0]))\n",
    "    return (np.asarray(m_temp) )\n",
    "m_updated = run_itr(m)\n",
    "print(m_updated)"
   ]
  },
  {
   "cell_type": "code",
   "execution_count": null,
   "metadata": {
    "tags": []
   },
   "outputs": [],
   "source": [
    "sub_m = m_updated[1:,1:]\n",
    "print(sub_m)\n",
    "sub_m_updated = run_itr(sub_m)\n",
    "print(sub_m_updated)"
   ]
  },
  {
   "cell_type": "code",
   "execution_count": 13,
   "metadata": {
    "tags": []
   },
   "outputs": [
    {
     "output_type": "stream",
     "name": "stdout",
     "text": "[[1 2 3]\n [4 5 6]\n [7 8 9]]\n[[ 1  2  3]\n [ 4 78 98]\n [ 7 76 45]]\n"
    }
   ],
   "source": [
    "m = np.asarray([[1,2,3],[4,5,6],[7,8,9]])\n",
    "print(m)\n",
    "m[1:,1:] = np.asarray([[78,98],[76,45]])\n",
    "print(m)"
   ]
  },
  {
   "cell_type": "code",
   "execution_count": 14,
   "metadata": {
    "tags": []
   },
   "outputs": [
    {
     "output_type": "stream",
     "name": "stdout",
     "text": "[[ 2  3 -4 12]\n [ 1  5 -1 12]\n [ 3  7 -3 20]]\n[[ 2.   3.  -4.  12. ]\n [ 0.   3.5  1.   6. ]\n [ 0.   2.5  3.   2. ]]\n[[ 2.          3.         -4.         12.        ]\n [ 0.          3.5         1.          6.        ]\n [ 0.          0.          2.28571429 -2.28571429]]\n"
    }
   ],
   "source": [
    "m = np.asarray([[2,3,-4,12],[1,5,-1,12],[3,7,-3,20]])\n",
    "print(m)\n",
    "m = run_sub_mat(m)\n",
    "print(m)\n",
    "m[1:,1:] = run_sub_mat(m[1:,1:])\n",
    "print(m)"
   ]
  },
  {
   "cell_type": "code",
   "execution_count": 15,
   "metadata": {},
   "outputs": [
    {
     "output_type": "error",
     "ename": "SyntaxError",
     "evalue": "invalid syntax (<ipython-input-15-56c11957b926>, line 2)",
     "traceback": [
      "\u001b[0;36m  File \u001b[0;32m\"<ipython-input-15-56c11957b926>\"\u001b[0;36m, line \u001b[0;32m2\u001b[0m\n\u001b[0;31m    for i in\u001b[0m\n\u001b[0m             ^\u001b[0m\n\u001b[0;31mSyntaxError\u001b[0m\u001b[0;31m:\u001b[0m invalid syntax\n"
     ]
    }
   ],
   "source": [
    "def calc_ecl(mat):\n",
    "    for i in "
   ]
  },
  {
   "cell_type": "code",
   "execution_count": null,
   "metadata": {
    "tags": []
   },
   "outputs": [],
   "source": [
    "m = np.asarray([[2,3,-4,12],[1,5,-1,12],[3,7,-3,20]])\n",
    "n = m[0:,0:]\n",
    "print(m)\n",
    "print(n)\n",
    "m = run_sub_mat(m)\n",
    "n = run_sub_mat(n)\n",
    "print(m)\n",
    "print(n)\n",
    "m[0:,0:] = run_sub_mat(m[0:,0:])\n",
    "print(m[0:,0:])\n",
    "print(m)"
   ]
  },
  {
   "cell_type": "code",
   "execution_count": null,
   "metadata": {
    "tags": []
   },
   "outputs": [],
   "source": [
    "m = np.asarray([[2.0,3.0,-4.0,12.0],[1.0,5.0,-1.0,12.0],[3.0,7.0,-3.0,20.0]])\n",
    "print(m)\n",
    "m[0:,0:] = run_sub_mat(m[0:,0:])\n",
    "print(m)\n",
    "m[1:,1:] = run_sub_mat(m[1:,1:])\n",
    "print(m)"
   ]
  },
  {
   "cell_type": "code",
   "execution_count": null,
   "metadata": {
    "tags": []
   },
   "outputs": [],
   "source": [
    "m = np.asarray([[2.0,3.0,-4.0,12.0],[1.0,5.0,-1.0,12.0],[3.0,7.0,-3.0,20.0]])\n",
    "print(m)\n",
    "m = run_sub_mat(m)\n",
    "print(m)\n",
    "m[1:,1:] = run_sub_mat(m[1:,1:])\n",
    "print(m)"
   ]
  },
  {
   "cell_type": "code",
   "execution_count": null,
   "metadata": {
    "tags": []
   },
   "outputs": [],
   "source": [
    "def calc_ecl(m):\n",
    "    temp_mat = np.copy(m)\n",
    "    for i in range(len(temp_mat)):\n",
    "        temp_mat[i:,i:] = run_sub_mat(temp_mat[i:,i:])\n",
    "    return(temp_mat)\n",
    "m = np.asarray([[2.0,3.0,-4.0,12.0],[1.0,5.0,-1.0,12.0],[3.0,7.0,-3.0,20.0]])\n",
    "print(calc_ecl(m))"
   ]
  },
  {
   "cell_type": "code",
   "execution_count": null,
   "metadata": {},
   "outputs": [],
   "source": [
    "m = np.asarray([[2.0,3.0,-4.0,12.0],[1.0,5.0,-1.0,12.0],[3.0,7.0,-3.0,20.0]])\n",
    "m_ech = calc_ecl(m)"
   ]
  },
  {
   "cell_type": "code",
   "execution_count": null,
   "metadata": {
    "tags": []
   },
   "outputs": [],
   "source": [
    "m = [1,2,3,4]\n",
    "print(m[:-1])\n",
    "\n",
    "m3 = np.asarray([[2.0,3.0,-4.0,12.0],[1.0,5.0,-1.0,12.0],[3.0,7.0,-3.0,20.0]])\n",
    "\n",
    "sol_vec = []\n",
    "\n",
    "def calc_row_sol(mat_vec,sol_vec):\n",
    "    const = mat_vec[-1]\n",
    "    print(const)\n",
    "    coeff_vec = mat_vec[1:-1]\n",
    "    print(sol_vec)\n",
    "    print(mat_vec)\n",
    "    sol = (const - np.dot(coeff_vec,sol_vec))/mat_vec[0]\n",
    "    return(sol)\n"
   ]
  },
  {
   "cell_type": "code",
   "execution_count": null,
   "metadata": {
    "tags": []
   },
   "outputs": [],
   "source": [
    "mat_vec = np.asarray([3.5,1.0,6.0])\n",
    "sol_vec = np.asarray([1])\n",
    "print(calc_row_sol(mat_vec,sol_vec))"
   ]
  },
  {
   "cell_type": "code",
   "execution_count": 23,
   "metadata": {
    "tags": []
   },
   "outputs": [
    {
     "output_type": "stream",
     "name": "stdout",
     "text": "[8]\n"
    }
   ],
   "source": [
    "l = []\n",
    "l.insert(0,8)\n",
    "print(l)"
   ]
  },
  {
   "cell_type": "code",
   "execution_count": 24,
   "metadata": {
    "tags": []
   },
   "outputs": [
    {
     "output_type": "error",
     "ename": "SyntaxError",
     "evalue": "invalid syntax (<ipython-input-24-7756ec4ae4fc>, line 2)",
     "traceback": [
      "\u001b[0;36m  File \u001b[0;32m\"<ipython-input-24-7756ec4ae4fc>\"\u001b[0;36m, line \u001b[0;32m2\u001b[0m\n\u001b[0;31m    ecl_m =\u001b[0m\n\u001b[0m            ^\u001b[0m\n\u001b[0;31mSyntaxError\u001b[0m\u001b[0;31m:\u001b[0m invalid syntax\n"
     ]
    }
   ],
   "source": [
    "i = 2\n",
    "ecl_m = \n",
    "mat_vec = m3[i:]\n",
    "print(mat_vec)\n",
    "#sol_vec = np.asarray([5])\n",
    "#print(calc_row_sol(mat_vec,sol_vec))"
   ]
  },
  {
   "cell_type": "code",
   "execution_count": null,
   "metadata": {
    "tags": []
   },
   "outputs": [],
   "source": [
    "m = np.asarray([1,2,3,4])\n",
    "print(m[:-2])"
   ]
  },
  {
   "cell_type": "code",
   "execution_count": null,
   "metadata": {},
   "outputs": [],
   "source": []
  },
  {
   "cell_type": "code",
   "execution_count": null,
   "metadata": {},
   "outputs": [],
   "source": []
  },
  {
   "cell_type": "code",
   "execution_count": null,
   "metadata": {},
   "outputs": [],
   "source": []
  },
  {
   "cell_type": "code",
   "execution_count": 38,
   "metadata": {},
   "outputs": [],
   "source": [
    "def calc_row(sol_vec,u_vec,const):\n",
    "    print(u_vec[:-1],u_vec[-1])\n",
    "    sol = (const-np.dot(sol_vec,u_vec[:-1]))/u_vec[-1]\n",
    "    return sol"
   ]
  },
  {
   "cell_type": "code",
   "execution_count": 41,
   "metadata": {
    "tags": []
   },
   "outputs": [
    {
     "output_type": "stream",
     "name": "stdout",
     "text": "[-4.  1.] 2.2857142857142856\n1.0\n"
    }
   ],
   "source": [
    "sol_vec = np.asarray([1.5,5/7])\n",
    "u_vec = np.asarray([-4,1,16/7])\n",
    "const = -3\n",
    "print(calc_row(sol_vec,u_vec,const))"
   ]
  },
  {
   "cell_type": "code",
   "execution_count": 47,
   "metadata": {
    "tags": []
   },
   "outputs": [
    {
     "output_type": "stream",
     "name": "stdout",
     "text": "[[ 2.  3. -4.  4.]\n [ 1.  5. -1.  3.]\n [ 3.  7. -3.  9.]]\n"
    }
   ],
   "source": [
    "m = np.asarray([[2.0,3.0,-4.0],[1.0,5.0,-1.0],[3.0,7.0,-3.0]])\n",
    "m = np.column_stack((m,[4,3,9]))\n",
    "print(m)"
   ]
  }
 ]
}