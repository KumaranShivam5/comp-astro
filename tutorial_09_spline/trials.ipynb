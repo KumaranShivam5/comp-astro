{
 "metadata": {
  "language_info": {
   "codemirror_mode": {
    "name": "ipython",
    "version": 3
   },
   "file_extension": ".py",
   "mimetype": "text/x-python",
   "name": "python",
   "nbconvert_exporter": "python",
   "pygments_lexer": "ipython3",
   "version": "3.7.3-final"
  },
  "orig_nbformat": 2,
  "kernelspec": {
   "name": "python_defaultSpec_1602235370929",
   "display_name": "Python 3.7.3 64-bit"
  }
 },
 "nbformat": 4,
 "nbformat_minor": 2,
 "cells": [
  {
   "cell_type": "code",
   "execution_count": 11,
   "metadata": {},
   "outputs": [],
   "source": [
    "import scipy.interpolate as si \n",
    "import numpy as np\n",
    "import asciitable as at \n"
   ]
  },
  {
   "cell_type": "code",
   "execution_count": 12,
   "metadata": {
    "tags": []
   },
   "outputs": [
    {
     "output_type": "stream",
     "name": "stdout",
     "text": "[[1.66667e+05 1.02747e+02]\n [1.25000e+05 7.30820e+01]\n [6.25000e+04 2.94620e+01]\n [3.12500e+04 1.18630e+01]\n [2.50000e+04 9.07500e+00]\n [2.00000e+04 7.32000e+00]\n [1.56250e+04 5.53000e+00]\n [1.25000e+04 4.32500e+00]\n [1.00000e+04 3.70000e+00]\n [8.92900e+03 3.35300e+00]\n [7.81200e+03 3.06500e+00]\n [6.94400e+03 2.89300e+00]\n [6.25000e+03 2.62200e+00]\n [5.00000e+03 2.30700e+00]\n [1.66667e+05 3.19120e+01]\n [1.25000e+05 2.30360e+01]\n [6.25000e+04 9.58600e+00]\n [3.12500e+04 3.71600e+00]\n [1.56250e+04 1.67200e+00]\n [1.25000e+04 1.38000e+00]\n [1.00000e+04 1.09600e+00]\n [8.92900e+03 9.92000e-01]\n [7.81200e+03 8.84000e-01]\n [6.94400e+03 8.08000e-01]\n [6.25000e+03 7.69000e-01]\n [5.00000e+03 6.76000e-01]\n [1.66667e+05 1.37700e+01]\n [1.25000e+05 1.00600e+01]\n [6.25000e+04 4.33700e+00]\n [3.12500e+04 1.63900e+00]\n [1.56250e+04 7.23000e-01]\n [1.25000e+04 6.30000e-01]\n [1.00000e+04 4.80000e-01]\n [8.92900e+03 4.32000e-01]\n [7.81200e+03 3.71000e-01]\n [6.94400e+03 3.44000e-01]\n [6.25000e+03 3.08000e-01]\n [5.00000e+03 2.97000e-01]\n [1.66667e+05 7.16600e+00]\n [1.25000e+05 5.26400e+00]\n [6.25000e+04 2.34200e+00]\n [3.12500e+04 8.79000e-01]\n [1.56250e+04 3.97000e-01]\n [1.25000e+04 3.23000e-01]\n [1.00000e+04 2.70000e-01]\n [8.92900e+03 2.34000e-01]\n [7.81200e+03 2.03000e-01]\n [6.94400e+03 1.91000e-01]\n [6.25000e+03 1.68000e-01]\n [5.00000e+03 1.51000e-01]\n [1.66667e+05 2.64100e+00]\n [1.25000e+05 1.95600e+00]\n [6.25000e+04 9.02000e-01]\n [3.12500e+04 3.43000e-01]\n [1.56250e+04 1.43000e-01]\n [1.25000e+04 1.17000e-01]\n [1.00000e+04 9.40000e-02]\n [8.92900e+03 8.50000e-02]\n [7.81200e+03 7.60000e-02]\n [6.94400e+03 6.30000e-02]\n [6.25000e+03 5.90000e-02]\n [5.00000e+03 5.30000e-02]]\n"
    }
   ],
   "source": [
    "data = at.read('EOSdata.txt')\n",
    "data_ar = np.asarray([list(d) for d in data])\n",
    "print(data_ar[:])"
   ]
  },
  {
   "cell_type": "code",
   "execution_count": 35,
   "metadata": {
    "tags": []
   },
   "outputs": [
    {
     "output_type": "stream",
     "name": "stdout",
     "text": "[(166667, 2.641) (125000, 1.956) ( 62500, 0.902) ( 31250, 0.343)\n ( 15625, 0.143) ( 12500, 0.117) ( 10000, 0.094) (  8929, 0.085)\n (  7812, 0.076) (  6944, 0.063) (  6250, 0.059) (  5000, 0.053)]\n"
    }
   ],
   "source": [
    "data = np.asarray(np.loadtxt('EOSdata.txt',dtype='i8,f8'))\n",
    "tabs = [data[0:14],data[14:26],data[26:38],data[38:50],data[50:]]\n",
    "print(tabs[4])"
   ]
  },
  {
   "cell_type": "code",
   "execution_count": null,
   "metadata": {},
   "outputs": [],
   "source": [
    "density = [4.21e-2,1.25e-2,1.05e-2,2.7e-3,9.83e-4]\n"
   ]
  },
  {
   "cell_type": "code",
   "execution_count": null,
   "metadata": {},
   "outputs": [],
   "source": [
    "def calc_pressure(temp,density_index):\n",
    "    f = si.interp1d()"
   ]
  }
 ]
}